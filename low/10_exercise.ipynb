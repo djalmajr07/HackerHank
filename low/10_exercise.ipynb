{
 "cells": [
  {
   "attachments": {},
   "cell_type": "markdown",
   "metadata": {},
   "source": [
    "# Imports"
   ]
  },
  {
   "cell_type": "code",
   "execution_count": null,
   "metadata": {},
   "outputs": [],
   "source": []
  },
  {
   "attachments": {},
   "cell_type": "markdown",
   "metadata": {},
   "source": [
    "# Task"
   ]
  },
  {
   "cell_type": "code",
   "execution_count": null,
   "metadata": {},
   "outputs": [],
   "source": [
    "# https://www.hackerrank.com/challenges/py-set-add/problem?isFullScreen=true\n",
    "\n",
    "\n",
    "\n",
    "Apply your knowledge of the .add() operation to help your friend Rupal.\n",
    "\n",
    "Rupal has a huge collection of country stamps. She decided to count the total number of distinct country stamps in her collection. She asked for your help. You pick the stamps one by one from a stack of  country stamps.\n",
    "\n",
    "Find the total number of distinct country stamps.\n",
    "\n",
    "Input Format\n",
    "\n",
    "The first line contains an integer , the total number of country stamps.\n",
    "The next  lines contains the name of the country where the stamp is from.\n",
    "Constraints\n",
    "\n",
    "\n",
    "Output Format\n",
    "\n",
    "Output the total number of distinct country stamps on a single line.\n",
    "\n"
   ]
  },
  {
   "cell_type": "code",
   "execution_count": null,
   "metadata": {},
   "outputs": [],
   "source": [
    "7\n",
    "UK\n",
    "China\n",
    "USA\n",
    "France\n",
    "New Zealand\n",
    "UK\n",
    "France "
   ]
  },
  {
   "cell_type": "code",
   "execution_count": 1,
   "metadata": {},
   "outputs": [
    {
     "name": "stdout",
     "output_type": "stream",
     "text": [
      "6\n"
     ]
    }
   ],
   "source": [
    "print(len(set(input() for i in range(int(input())))))"
   ]
  }
 ],
 "metadata": {
  "kernelspec": {
   "display_name": "env",
   "language": "python",
   "name": "python3"
  },
  "language_info": {
   "codemirror_mode": {
    "name": "ipython",
    "version": 3
   },
   "file_extension": ".py",
   "mimetype": "text/x-python",
   "name": "python",
   "nbconvert_exporter": "python",
   "pygments_lexer": "ipython3",
   "version": "3.10.6 (main, Nov 14 2022, 16:10:14) [GCC 11.3.0]"
  },
  "orig_nbformat": 4,
  "vscode": {
   "interpreter": {
    "hash": "b15c5648db5637feb81fcae916c610f06fa0d80f6bc4885c25e80cd1fedb8bfc"
   }
  }
 },
 "nbformat": 4,
 "nbformat_minor": 2
}
