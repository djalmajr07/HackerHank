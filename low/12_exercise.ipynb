{
 "cells": [
  {
   "attachments": {},
   "cell_type": "markdown",
   "metadata": {},
   "source": [
    "String exercise series "
   ]
  },
  {
   "cell_type": "markdown",
   "metadata": {},
   "source": [
    "# Imports"
   ]
  },
  {
   "cell_type": "code",
   "execution_count": 2,
   "metadata": {},
   "outputs": [],
   "source": [
    "import math\n",
    "import os\n",
    "import random\n",
    "import re\n",
    "import sys"
   ]
  },
  {
   "attachments": {},
   "cell_type": "markdown",
   "metadata": {},
   "source": [
    "# Task\n",
    "\n",
    "Exercise 1A: Create a string made of the first, middle and last character\n",
    "\n",
    "Exercise 1B: Create a string made of the middle three characters\n",
    "\n",
    "Exercise 2: Append new string in the middle of a given string\n",
    "\n",
    "Exercise 3: Create a new string made of the first, middle, and last characters of each input string\n",
    "\n",
    "Exercise 4: Arrange string characters such that lowercase letters should come first\n",
    "\n",
    "Exercise 5: Count all letters, digits, and special symbols from a given string\n",
    "\n",
    "Exercise 6: Create a mixed String using the following rules\n",
    "\n",
    "Exercise 7: String characters balance Test\n",
    "\n",
    "Exercise 8: Find all occurrences of a substring in a given string by ignoring the case\n",
    "\n",
    "Exercise 9: Calculate the sum and average of the digits present in a string\n",
    "\n",
    "Exercise 10: Write a program to count occurrences of all characters within a string\n",
    "\n",
    "Exercise 11: Reverse a given string\n",
    "\n",
    "Exercise 12: Find the last position of a given substring\n",
    "\n",
    "Exercise 13: Split a string on hyphens\n",
    "\n",
    "Exercise 14: Remove empty strings from a list of strings\n",
    "\n",
    "Exercise 15: Remove special symbols / punctuation from a string\n",
    "\n",
    "Exercise 16: Removal all characters from a string except integers\n",
    "\n",
    "Exercise 17: Find words with both alphabets and numbers\n",
    "\n",
    "Exercise 18: Replace each special symbol with # in the following string"
   ]
  },
  {
   "cell_type": "code",
   "execution_count": 41,
   "metadata": {},
   "outputs": [
    {
     "name": "stdout",
     "output_type": "stream",
     "text": [
      "5\n",
      "2\n",
      "2.5\n"
     ]
    }
   ],
   "source": [
    "names1='djalm'\n",
    "import math as ma\n",
    "print(len(names1))\n",
    "print(round(len(names1)/2))\n",
    "print(len(names1)/2)\n",
    "\n"
   ]
  },
  {
   "attachments": {},
   "cell_type": "markdown",
   "metadata": {},
   "source": [
    "# Exercise 1A: Create a string made of the first, middle and last character"
   ]
  },
  {
   "attachments": {},
   "cell_type": "markdown",
   "metadata": {},
   "source": [
    "The math.ceil() method rounds a number up to the nearest whole number while the math.floor() method rounds a number down to the nearest whole number.\n",
    "\n",
    "\n",
    "or // for floor"
   ]
  },
  {
   "cell_type": "code",
   "execution_count": 54,
   "metadata": {},
   "outputs": [
    {
     "name": "stdout",
     "output_type": "stream",
     "text": [
      "daa\n"
     ]
    }
   ],
   "source": [
    "names='djalma'\n",
    "\n",
    "m= ma.floor(len(names)/2)\n",
    "\n",
    "new_name=names[0]+names[m-1]+names[-1]\n",
    "print(new_name)\n"
   ]
  },
  {
   "attachments": {},
   "cell_type": "markdown",
   "metadata": {},
   "source": [
    "# Exercise 1B: Create a string made of the middle three characters"
   ]
  },
  {
   "cell_type": "code",
   "execution_count": 56,
   "metadata": {},
   "outputs": [
    {
     "name": "stdout",
     "output_type": "stream",
     "text": [
      "ilv\n"
     ]
    }
   ],
   "source": [
    "last='silva'\n",
    "middle=ma.floor(len(last)/2)\n",
    "new_str=last[middle-1]+last[middle]+last[middle+1]\n",
    "print(new_str)"
   ]
  },
  {
   "attachments": {},
   "cell_type": "markdown",
   "metadata": {},
   "source": [
    "# Exercise 2: Append new string in the middle of a given string"
   ]
  },
  {
   "cell_type": "code",
   "execution_count": 64,
   "metadata": {},
   "outputs": [
    {
     "data": {
      "text/plain": [
       "'xavAMOier'"
      ]
     },
     "execution_count": 64,
     "metadata": {},
     "output_type": "execute_result"
    }
   ],
   "source": [
    "def add_smt(last, smt=str):\n",
    "    middle= len(last) // 2\n",
    "    new_last= last[:middle] + smt + last[middle:]\n",
    "    return new_last\n",
    "add_smt('xavier', 'AMO')"
   ]
  },
  {
   "attachments": {},
   "cell_type": "markdown",
   "metadata": {},
   "source": [
    "# Exercise 4: Arrange string characters such that lowercase letters should come first"
   ]
  },
  {
   "cell_type": "code",
   "execution_count": 79,
   "metadata": {},
   "outputs": [
    {
     "data": {
      "text/plain": [
       "'jalmasilvaD'"
      ]
     },
     "execution_count": 79,
     "metadata": {},
     "output_type": "execute_result"
    }
   ],
   "source": [
    "s='jalmDasilva'\n",
    "up=[c for c in s if c.isupper()]\n",
    "lo=[c for c in s if c.islower()]\n",
    "\"\".join(lo + up)\n"
   ]
  },
  {
   "attachments": {},
   "cell_type": "markdown",
   "metadata": {},
   "source": [
    "# Exercise 5: Count all letters, digits, and special symbols from a given string"
   ]
  },
  {
   "cell_type": "code",
   "execution_count": 87,
   "metadata": {},
   "outputs": [
    {
     "name": "stdout",
     "output_type": "stream",
     "text": [
      "The number of letters is: 3, digits: 4, simbols: 2\n"
     ]
    }
   ],
   "source": [
    "chars='asd1273@!'\n",
    "letters=len([c for c in chars if c.isalpha()])\n",
    "digits=len([c for c in chars if c.isnumeric()])\n",
    "simbols=len(re.findall(r'[^\\w\\s]', chars))\n",
    "\n",
    "\n",
    "print(f'The number of letters is: {letters}, digits: {digits}, simbols: {simbols}')"
   ]
  },
  {
   "attachments": {},
   "cell_type": "markdown",
   "metadata": {},
   "source": [
    "# Exercise 6: Create a mixed String using the following rules\n",
    "\n",
    "Given two strings, s1 and s2.\n",
    "\n",
    " Write a program to create a new string s3 made of the first char of s1, then the last char of s2, Next, the second char of s1 and second last char of s2, and so on. \n",
    " \n",
    " Any leftover chars go at the end of the result."
   ]
  },
  {
   "cell_type": "code",
   "execution_count": 112,
   "metadata": {},
   "outputs": [],
   "source": [
    "s1='1357'\n",
    "s2='2468'\n",
    "# [c1[i1] + c2[i2] for i1, c1 in enumerate(s1) for i2, c2 in enumerate(s2)]\n",
    "\n",
    "# s3=[]\n",
    "\n",
    "# for i,c in enumerate(s1):\n",
    "#    s3.append(c)\n",
    "#     print(s3)\n",
    "\n"
   ]
  },
  {
   "cell_type": "code",
   "execution_count": 97,
   "metadata": {},
   "outputs": [],
   "source": [
    "def append_pairs(s1, s2):\n",
    "    s1 = s1.strip()\n",
    "    s2 = s2.strip()\n",
    "    length = min(len(s1), len(s2))\n",
    "    result = ''\n",
    "    for i in range(length):\n",
    "        result += s1[i] + s2[i]\n",
    "    result += s1[length:] + s2[length:]\n",
    "    return result\n"
   ]
  },
  {
   "cell_type": "code",
   "execution_count": 115,
   "metadata": {},
   "outputs": [
    {
     "name": "stdout",
     "output_type": "stream",
     "text": [
      "Dam__uz jlaeLia 7 \n"
     ]
    }
   ],
   "source": [
    "s1 = s1.strip()\n",
    "s2 = s2.strip()\n",
    "length = min(len(s1), len(s2))\n",
    "result = ''\n",
    "\n",
    "print(s1,s2,length,result)"
   ]
  },
  {
   "cell_type": "code",
   "execution_count": 114,
   "metadata": {},
   "outputs": [
    {
     "data": {
      "text/plain": [
       "'Djalma_e_Luiza'"
      ]
     },
     "execution_count": 114,
     "metadata": {},
     "output_type": "execute_result"
    }
   ],
   "source": [
    "s1 = 'Dam__uz'\n",
    "s2 = 'jlaeLia'\n",
    "append_pairs(s1, s2)\n",
    "\n"
   ]
  },
  {
   "cell_type": "code",
   "execution_count": 117,
   "metadata": {},
   "outputs": [
    {
     "name": "stdout",
     "output_type": "stream",
     "text": [
      "7\n",
      "Djalma_e_Luiza\n"
     ]
    }
   ],
   "source": [
    "min_length = min(len(s1), len(s2))\n",
    "print(min_length)\n",
    "s3=\"\".join([s1[i] + s2[i] for i in range(min_length)])\n",
    "print(s3)"
   ]
  },
  {
   "cell_type": "code",
   "execution_count": 44,
   "metadata": {},
   "outputs": [
    {
     "ename": "TypeError",
     "evalue": "can only concatenate str (not \"int\") to str",
     "output_type": "error",
     "traceback": [
      "\u001b[0;31m---------------------------------------------------------------------------\u001b[0m",
      "\u001b[0;31mTypeError\u001b[0m                                 Traceback (most recent call last)",
      "Cell \u001b[0;32mIn[44], line 7\u001b[0m\n\u001b[1;32m      5\u001b[0m     m\u001b[39m=\u001b[39m ma\u001b[39m.\u001b[39mceil(\u001b[39mlen\u001b[39m(names)\u001b[39m/\u001b[39m\u001b[39m2\u001b[39m)\n\u001b[1;32m      6\u001b[0m     l\u001b[39m=\u001b[39m[\u001b[39m-\u001b[39m\u001b[39m1\u001b[39m]\n\u001b[0;32m----> 7\u001b[0m     \u001b[39mprint\u001b[39m(f\u001b[39m+\u001b[39;49mm\u001b[39m+\u001b[39ml)\n\u001b[1;32m      9\u001b[0m \u001b[39m# Exercise 1B: Create a string made of the middle three characters\u001b[39;00m\n\u001b[1;32m     10\u001b[0m \n\u001b[1;32m     11\u001b[0m \u001b[39m# Exercise 2: Append new string in the middle of a given string\u001b[39;00m\n\u001b[0;32m   (...)\u001b[0m\n\u001b[1;32m     42\u001b[0m \n\u001b[1;32m     43\u001b[0m \u001b[39m# Exercise 18: Replace each special symbol with # in the following string\u001b[39;00m\n",
      "\u001b[0;31mTypeError\u001b[0m: can only concatenate str (not \"int\") to str"
     ]
    }
   ],
   "source": [
    "\n",
    "\n",
    "# Exercise 6: Create a mixed String using the following rules\n",
    "\n",
    "# Exercise 7: String characters balance Test\n",
    "\n",
    "# Exercise 8: Find all occurrences of a substring in a given string by ignoring the case\n",
    "\n",
    "# Exercise 9: Calculate the sum and average of the digits present in a string\n",
    "\n",
    "# Exercise 10: Write a program to count occurrences of all characters within a string\n",
    "\n",
    "# Exercise 11: Reverse a given string\n",
    "\n",
    "# Exercise 12: Find the last position of a given substring\n",
    "\n",
    "# Exercise 13: Split a string on hyphens\n",
    "\n",
    "# Exercise 14: Remove empty strings from a list of strings\n",
    "\n",
    "# Exercise 15: Remove special symbols / punctuation from a string\n",
    "\n",
    "# Exercise 16: Removal all characters from a string except integers\n",
    "\n",
    "# Exercise 17: Find words with both alphabets and numbers\n",
    "\n",
    "# Exercise 18: Replace each special symbol with # in the following string"
   ]
  },
  {
   "attachments": {},
   "cell_type": "markdown",
   "metadata": {},
   "source": [
    "string reversor"
   ]
  },
  {
   "cell_type": "code",
   "execution_count": 10,
   "metadata": {},
   "outputs": [
    {
     "name": "stdout",
     "output_type": "stream",
     "text": [
      "\"h\",\"a\",\"n\",\"n\",\"a\",\"H\"\n",
      "\n"
     ]
    }
   ],
   "source": [
    "str = input(\"Input a word to reverse: \")\n",
    "\n",
    "for i in range(len(str) - 1, -1, -1):\n",
    "  print(str[i], end=\"\")\n",
    "print(\"\\n\")"
   ]
  },
  {
   "attachments": {},
   "cell_type": "markdown",
   "metadata": {},
   "source": [
    "vowel reversor\n",
    "\n",
    "This function takes a string s as input, and returns a new string with the vowels (letters 'a', 'e', 'i', 'o', and 'u', both in upper and lower case) reversed. The implementation uses two pointer approach, one pointing to the beginning of the string and the other to the end, and swapping the vowels found at the two pointers."
   ]
  },
  {
   "cell_type": "code",
   "execution_count": 22,
   "metadata": {},
   "outputs": [
    {
     "data": {
      "text/plain": [
       "'leotcede'"
      ]
     },
     "execution_count": 22,
     "metadata": {},
     "output_type": "execute_result"
    }
   ],
   "source": [
    "s = \"leetcode\"\n",
    "\n",
    "def reverseVowels(s):\n",
    "    vowels = set(['a', 'e', 'i', 'o', 'u', 'A', 'E', 'I', 'O', 'U'])\n",
    "    s = list(s)\n",
    "    i, j = 0, len(s) - 1\n",
    "    while i < j:\n",
    "        if s[i] in vowels and s[j] in vowels:\n",
    "            s[i], s[j] = s[j], s[i]\n",
    "            i += 1\n",
    "            j -= 1\n",
    "        elif s[i] in vowels:\n",
    "            j -= 1\n",
    "        elif s[j] in vowels:\n",
    "            i += 1\n",
    "        else:\n",
    "            i += 1\n",
    "            j -= 1\n",
    "    return \"\".join(s)\n",
    "\n",
    "reverseVowels(s)\n",
    "        \n",
    "        "
   ]
  }
 ],
 "metadata": {
  "kernelspec": {
   "display_name": "env",
   "language": "python",
   "name": "python3"
  },
  "language_info": {
   "codemirror_mode": {
    "name": "ipython",
    "version": 3
   },
   "file_extension": ".py",
   "mimetype": "text/x-python",
   "name": "python",
   "nbconvert_exporter": "python",
   "pygments_lexer": "ipython3",
   "version": "3.10.6"
  },
  "orig_nbformat": 4,
  "vscode": {
   "interpreter": {
    "hash": "b15c5648db5637feb81fcae916c610f06fa0d80f6bc4885c25e80cd1fedb8bfc"
   }
  }
 },
 "nbformat": 4,
 "nbformat_minor": 2
}
