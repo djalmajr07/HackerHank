{
 "cells": [
  {
   "attachments": {},
   "cell_type": "markdown",
   "metadata": {},
   "source": [
    "String exercise series "
   ]
  },
  {
   "cell_type": "markdown",
   "metadata": {},
   "source": [
    "# Imports"
   ]
  },
  {
   "cell_type": "code",
   "execution_count": 5,
   "metadata": {},
   "outputs": [],
   "source": [
    "import math\n",
    "import os\n",
    "import random\n",
    "import re\n",
    "import sys"
   ]
  },
  {
   "attachments": {},
   "cell_type": "markdown",
   "metadata": {},
   "source": [
    "# Task\n",
    "\n",
    "Exercise 1A: Create a string made of the first, middle and last character\n",
    "\n",
    "Exercise 1B: Create a string made of the middle three characters\n",
    "\n",
    "Exercise 2: Append new string in the middle of a given string\n",
    "\n",
    "Exercise 3: Create a new string made of the first, middle, and last characters of each input string\n",
    "\n",
    "Exercise 4: Arrange string characters such that lowercase letters should come first\n",
    "\n",
    "Exercise 5: Count all letters, digits, and special symbols from a given string\n",
    "\n",
    "Exercise 6: Create a mixed String using the following rules\n",
    "\n",
    "Exercise 7: String characters balance Test\n",
    "\n",
    "Exercise 8: Find all occurrences of a substring in a given string by ignoring the case\n",
    "\n",
    "Exercise 9: Calculate the sum and average of the digits present in a string\n",
    "\n",
    "Exercise 10: Write a program to count occurrences of all characters within a string\n",
    "\n",
    "Exercise 11: Reverse a given string\n",
    "\n",
    "Exercise 12: Find the last position of a given substring\n",
    "\n",
    "Exercise 13: Split a string on hyphens\n",
    "\n",
    "Exercise 14: Remove empty strings from a list of strings\n",
    "\n",
    "Exercise 15: Remove special symbols / punctuation from a string\n",
    "\n",
    "Exercise 16: Removal all characters from a string except integers\n",
    "\n",
    "Exercise 17: Find words with both alphabets and numbers\n",
    "\n",
    "Exercise 18: Replace each special symbol with # in the following string"
   ]
  },
  {
   "cell_type": "code",
   "execution_count": 41,
   "metadata": {},
   "outputs": [
    {
     "name": "stdout",
     "output_type": "stream",
     "text": [
      "5\n",
      "2\n",
      "2.5\n"
     ]
    }
   ],
   "source": [
    "names1='djalm'\n",
    "import math as ma\n",
    "print(len(names1))\n",
    "print(round(len(names1)/2))\n",
    "print(len(names1)/2)\n",
    "\n"
   ]
  },
  {
   "attachments": {},
   "cell_type": "markdown",
   "metadata": {},
   "source": [
    "# Exercise 1A: Create a string made of the first, middle and last character"
   ]
  },
  {
   "attachments": {},
   "cell_type": "markdown",
   "metadata": {},
   "source": [
    "The math.ceil() method rounds a number up to the nearest whole number while the math.floor() method rounds a number down to the nearest whole number.\n",
    "\n",
    "\n",
    "or // for floor"
   ]
  },
  {
   "cell_type": "code",
   "execution_count": 54,
   "metadata": {},
   "outputs": [
    {
     "name": "stdout",
     "output_type": "stream",
     "text": [
      "daa\n"
     ]
    }
   ],
   "source": [
    "names='djalma'\n",
    "\n",
    "m= ma.floor(len(names)/2)\n",
    "\n",
    "new_name=names[0]+names[m-1]+names[-1]\n",
    "print(new_name)\n"
   ]
  },
  {
   "attachments": {},
   "cell_type": "markdown",
   "metadata": {},
   "source": [
    "# Exercise 1B: Create a string made of the middle three characters"
   ]
  },
  {
   "cell_type": "code",
   "execution_count": 56,
   "metadata": {},
   "outputs": [
    {
     "name": "stdout",
     "output_type": "stream",
     "text": [
      "ilv\n"
     ]
    }
   ],
   "source": [
    "last='silva'\n",
    "middle=ma.floor(len(last)/2)\n",
    "new_str=last[middle-1]+last[middle]+last[middle+1]\n",
    "print(new_str)"
   ]
  },
  {
   "attachments": {},
   "cell_type": "markdown",
   "metadata": {},
   "source": [
    "# Exercise 2: Append new string in the middle of a given string"
   ]
  },
  {
   "cell_type": "code",
   "execution_count": 64,
   "metadata": {},
   "outputs": [
    {
     "data": {
      "text/plain": [
       "'xavAMOier'"
      ]
     },
     "execution_count": 64,
     "metadata": {},
     "output_type": "execute_result"
    }
   ],
   "source": [
    "def add_smt(last, smt=str):\n",
    "    middle= len(last) // 2\n",
    "    new_last= last[:middle] + smt + last[middle:]\n",
    "    return new_last\n",
    "add_smt('xavier', 'AMO')"
   ]
  },
  {
   "attachments": {},
   "cell_type": "markdown",
   "metadata": {},
   "source": [
    "# Exercise 4: Arrange string characters such that lowercase letters should come first"
   ]
  },
  {
   "cell_type": "code",
   "execution_count": 79,
   "metadata": {},
   "outputs": [
    {
     "data": {
      "text/plain": [
       "'jalmasilvaD'"
      ]
     },
     "execution_count": 79,
     "metadata": {},
     "output_type": "execute_result"
    }
   ],
   "source": [
    "s='jalmDasilva'\n",
    "up=[c for c in s if c.isupper()]\n",
    "lo=[c for c in s if c.islower()]\n",
    "\"\".join(lo + up)\n"
   ]
  },
  {
   "attachments": {},
   "cell_type": "markdown",
   "metadata": {},
   "source": [
    "# Exercise 5: Count all letters, digits, and special symbols from a given string"
   ]
  },
  {
   "cell_type": "code",
   "execution_count": 87,
   "metadata": {},
   "outputs": [
    {
     "name": "stdout",
     "output_type": "stream",
     "text": [
      "The number of letters is: 3, digits: 4, simbols: 2\n"
     ]
    }
   ],
   "source": [
    "chars='asd1273@!'\n",
    "letters=len([c for c in chars if c.isalpha()])\n",
    "digits=len([c for c in chars if c.isnumeric()])\n",
    "simbols=len(re.findall(r'[^\\w\\s]', chars))\n",
    "\n",
    "\n",
    "print(f'The number of letters is: {letters}, digits: {digits}, simbols: {simbols}')"
   ]
  },
  {
   "attachments": {},
   "cell_type": "markdown",
   "metadata": {},
   "source": [
    "# Exercise 6: Create a mixed String using the following rules\n",
    "\n",
    "Given two strings, s1 and s2.\n",
    "\n",
    " Write a program to create a new string s3 made of the first char of s1, then the last char of s2, Next, the second char of s1 and second last char of s2, and so on. \n",
    " \n",
    " Any leftover chars go at the end of the result."
   ]
  },
  {
   "cell_type": "code",
   "execution_count": 17,
   "metadata": {},
   "outputs": [
    {
     "name": "stdout",
     "output_type": "stream",
     "text": [
      "4\n",
      "18273645\n"
     ]
    }
   ],
   "source": [
    "s1='1234'\n",
    "s2='5678'\n",
    "\n",
    "min_length = min(len(s1), len(s2))\n",
    "print(min_length)\n",
    "s2_rev=s2[::-1]\n",
    "s3=\"\".join([s1[i] + s2_rev[i] for i in range(min_length)])\n",
    "print(s3)\n",
    "\n"
   ]
  },
  {
   "attachments": {},
   "cell_type": "markdown",
   "metadata": {},
   "source": [
    "# Exercise 7: String characters balance Test\n",
    "\n",
    "Write a program to check if two strings are balanced. \n",
    "\n",
    "For example, strings s1 and s2 are balanced if all the characters in the s1 are present in s2. \n",
    "\n",
    "The character’s position doesn’t matter."
   ]
  },
  {
   "cell_type": "code",
   "execution_count": 30,
   "metadata": {},
   "outputs": [
    {
     "name": "stdout",
     "output_type": "stream",
     "text": [
      "Balanced\n"
     ]
    }
   ],
   "source": [
    "str1='Ypc'\n",
    "str2='PYpc'\n",
    "\n",
    "if str1 in str2:\n",
    "    print('Balanced')\n",
    "else:\n",
    "    print('Imbalanced')\n"
   ]
  },
  {
   "attachments": {},
   "cell_type": "markdown",
   "metadata": {},
   "source": [
    "# Exercise 8: Find all occurrences of a substring in a given string by ignoring the case\n"
   ]
  },
  {
   "cell_type": "code",
   "execution_count": 35,
   "metadata": {},
   "outputs": [
    {
     "data": {
      "text/plain": [
       "2"
      ]
     },
     "execution_count": 35,
     "metadata": {},
     "output_type": "execute_result"
    }
   ],
   "source": [
    "str1 = \"Welcome to USA. usa awesome, isn't it?\"\n",
    "sub='USA'\n",
    "\n",
    "# lower everithing\n",
    "str1_lower=str1.lower()\n",
    "sub_lower=sub.lower()\n",
    "\n",
    "sum([char == sub_lower[0] and str1_lower[index:index+3] == sub_lower for index, char in enumerate(str1_lower)])    "
   ]
  },
  {
   "attachments": {},
   "cell_type": "markdown",
   "metadata": {},
   "source": [
    "with regex"
   ]
  },
  {
   "cell_type": "code",
   "execution_count": 37,
   "metadata": {},
   "outputs": [
    {
     "data": {
      "text/plain": [
       "2"
      ]
     },
     "execution_count": 37,
     "metadata": {},
     "output_type": "execute_result"
    }
   ],
   "source": [
    "len(re.findall(re.compile(sub, re.IGNORECASE), str1))"
   ]
  },
  {
   "cell_type": "code",
   "execution_count": 40,
   "metadata": {},
   "outputs": [
    {
     "data": {
      "text/plain": [
       "['USA', 'usa']"
      ]
     },
     "execution_count": 40,
     "metadata": {},
     "output_type": "execute_result"
    }
   ],
   "source": [
    "re.findall(re.compile(sub, re.IGNORECASE),str1)"
   ]
  },
  {
   "attachments": {},
   "cell_type": "markdown",
   "metadata": {},
   "source": [
    "# Exercise 9: Calculate the sum and average of the digits present in a string\n"
   ]
  },
  {
   "cell_type": "code",
   "execution_count": 44,
   "metadata": {},
   "outputs": [
    {
     "name": "stdout",
     "output_type": "stream",
     "text": [
      "45\n",
      "5.0\n"
     ]
    }
   ],
   "source": [
    "str_dig='123456789'\n",
    "\n",
    "str_int=[int(num) for num in str_dig]\n",
    "\n",
    "sum_of_str_int=sum(str_int)\n",
    "avg_of_str_int=sum(str_int) / len(str_int)\n",
    "\n",
    "print(sum_of_str_int)\n",
    "print(avg_of_str_int)\n"
   ]
  },
  {
   "attachments": {},
   "cell_type": "markdown",
   "metadata": {},
   "source": [
    "# Exercise 10: Write a program to count occurrences of all characters within a string\n"
   ]
  },
  {
   "cell_type": "code",
   "execution_count": 4,
   "metadata": {},
   "outputs": [
    {
     "name": "stdout",
     "output_type": "stream",
     "text": [
      "{'D': 2, 'j': 2, 'a': 3, 'l': 2, 'm': 2}\n"
     ]
    }
   ],
   "source": [
    "name='Djalma'\n",
    "\n",
    "kv_char={}\n",
    "# def count_char(name):\n",
    "for char in name:\n",
    "    kv_char[char]=kv_char.get(char,0) + 1\n",
    "print(kv_char)"
   ]
  },
  {
   "cell_type": "code",
   "execution_count": 13,
   "metadata": {},
   "outputs": [
    {
     "name": "stdout",
     "output_type": "stream",
     "text": [
      "{'djalma': 1, 'luiza': 1, 'nina': 0}\n"
     ]
    }
   ],
   "source": [
    "lista=['djalma', 'luiza', 'nina']\n",
    "\n",
    "frase= 'djalma mora com a luiza'\n",
    "\n",
    "counter={}\n",
    "for name in lista:\n",
    "    counter[name]=frase.count(name)\n",
    "print(counter)"
   ]
  },
  {
   "attachments": {},
   "cell_type": "markdown",
   "metadata": {},
   "source": [
    "# Exercise 11: Reverse a given string\n"
   ]
  },
  {
   "cell_type": "code",
   "execution_count": 15,
   "metadata": {},
   "outputs": [
    {
     "name": "stdout",
     "output_type": "stream",
     "text": [
      "the last occurance happens in the index: 43\n"
     ]
    }
   ],
   "source": [
    "subs=\"Emma\"\n",
    "str1 = \"Emma is a data scientist who knows Python. Emma works at google.\"\n",
    "\n",
    "index=str1.rfind(subs)\n",
    "print(f\"the last occurance happens in the index: {index}\")"
   ]
  },
  {
   "attachments": {},
   "cell_type": "markdown",
   "metadata": {},
   "source": [
    "# Exercise 13: Split a string on hyphens"
   ]
  },
  {
   "cell_type": "code",
   "execution_count": 16,
   "metadata": {},
   "outputs": [
    {
     "data": {
      "text/plain": [
       "['Emma', 'is', 'a', 'data', 'scientist']"
      ]
     },
     "execution_count": 16,
     "metadata": {},
     "output_type": "execute_result"
    }
   ],
   "source": [
    "str1 = 'Emma-is-a-data-scientist'\n",
    "str1.split('-')"
   ]
  },
  {
   "attachments": {},
   "cell_type": "markdown",
   "metadata": {},
   "source": [
    "# Exercise 14: Remove empty strings from a list of strings\n"
   ]
  },
  {
   "cell_type": "code",
   "execution_count": 22,
   "metadata": {},
   "outputs": [
    {
     "data": {
      "text/plain": [
       "['Emma', 'Jon', 'Kelly', 'Eric']"
      ]
     },
     "execution_count": 22,
     "metadata": {},
     "output_type": "execute_result"
    }
   ],
   "source": [
    "str_list = [\"Emma\", \"Jon\", \"\", \"Kelly\", None, \"Eric\", \"\"]\n",
    "new_str_list=list(filter(None,str_list))\n",
    "new_str_list"
   ]
  },
  {
   "attachments": {},
   "cell_type": "markdown",
   "metadata": {},
   "source": [
    "# Exercise 15: Remove special symbols / punctuation from a string\n"
   ]
  },
  {
   "cell_type": "code",
   "execution_count": 50,
   "metadata": {},
   "outputs": [
    {
     "data": {
      "text/plain": [
       "'Jon is developer and musician'"
      ]
     },
     "execution_count": 50,
     "metadata": {},
     "output_type": "execute_result"
    }
   ],
   "source": [
    "str1 = \"/*Jon is @developer & musician\"\n",
    "simbol='/*@&'\n",
    "str_new=''\n",
    "for char in str1:\n",
    "    if char.isalpha() or char.isspace():\n",
    "        str_new+=char\n",
    "        \n",
    "    elif char == '&':\n",
    "        str_new+='and'\n",
    "        \n",
    "    else:\n",
    "        char.replace(char,'')\n",
    "\n",
    "       \n",
    "\n",
    "str_new\n",
    "# str1"
   ]
  },
  {
   "cell_type": "markdown",
   "metadata": {},
   "source": [
    "# Exercise 16: Removal all characters from a string except integers\n"
   ]
  },
  {
   "cell_type": "code",
   "execution_count": 56,
   "metadata": {},
   "outputs": [
    {
     "data": {
      "text/plain": [
       "'2510'"
      ]
     },
     "execution_count": 56,
     "metadata": {},
     "output_type": "execute_result"
    }
   ],
   "source": [
    "str1 = 'I am 25 years and 10 months old'\n",
    "integers=''\n",
    "for char in str1:\n",
    "    if char.isnumeric():\n",
    "        integers += char\n",
    "integers"
   ]
  },
  {
   "attachments": {},
   "cell_type": "markdown",
   "metadata": {},
   "source": [
    "# Exercise 17: Find words with both alphabets and numbers"
   ]
  },
  {
   "cell_type": "code",
   "execution_count": 81,
   "metadata": {},
   "outputs": [
    {
     "data": {
      "text/plain": [
       "['Emma25', 'scientist50']"
      ]
     },
     "execution_count": 81,
     "metadata": {},
     "output_type": "execute_result"
    }
   ],
   "source": [
    "str1 = \"Emma25 is Data scientist50 and AI Expert\"\n",
    "alnu=[]\n",
    "str1_spl=str1.split()\n",
    "for item in str1_spl:\n",
    "    if any(char.isnumeric() for char in item ) and any(char.isalpha() for char in item):\n",
    "        alnu.append(item)\n",
    "alnu"
   ]
  },
  {
   "cell_type": "code",
   "execution_count": 18,
   "metadata": {},
   "outputs": [],
   "source": [
    "\n",
    "\n",
    "# Exercise 18: Replace each special symbol with # in the following string"
   ]
  },
  {
   "attachments": {},
   "cell_type": "markdown",
   "metadata": {},
   "source": [
    "string reversor"
   ]
  },
  {
   "cell_type": "code",
   "execution_count": 10,
   "metadata": {},
   "outputs": [
    {
     "name": "stdout",
     "output_type": "stream",
     "text": [
      "\"h\",\"a\",\"n\",\"n\",\"a\",\"H\"\n",
      "\n"
     ]
    }
   ],
   "source": [
    "str = input(\"Input a word to reverse: \")\n",
    "\n",
    "for i in range(len(str) - 1, -1, -1):\n",
    "  print(str[i], end=\"\")\n",
    "print(\"\\n\")"
   ]
  },
  {
   "attachments": {},
   "cell_type": "markdown",
   "metadata": {},
   "source": [
    "vowel reversor\n",
    "\n",
    "This function takes a string s as input, and returns a new string with the vowels (letters 'a', 'e', 'i', 'o', and 'u', both in upper and lower case) reversed. The implementation uses two pointer approach, one pointing to the beginning of the string and the other to the end, and swapping the vowels found at the two pointers."
   ]
  },
  {
   "cell_type": "code",
   "execution_count": 22,
   "metadata": {},
   "outputs": [
    {
     "data": {
      "text/plain": [
       "'leotcede'"
      ]
     },
     "execution_count": 22,
     "metadata": {},
     "output_type": "execute_result"
    }
   ],
   "source": [
    "s = \"leetcode\"\n",
    "\n",
    "def reverseVowels(s):\n",
    "    vowels = set(['a', 'e', 'i', 'o', 'u', 'A', 'E', 'I', 'O', 'U'])\n",
    "    s = list(s)\n",
    "    i, j = 0, len(s) - 1\n",
    "    while i < j:\n",
    "        if s[i] in vowels and s[j] in vowels:\n",
    "            s[i], s[j] = s[j], s[i]\n",
    "            i += 1\n",
    "            j -= 1\n",
    "        elif s[i] in vowels:\n",
    "            j -= 1\n",
    "        elif s[j] in vowels:\n",
    "            i += 1\n",
    "        else:\n",
    "            i += 1\n",
    "            j -= 1\n",
    "    return \"\".join(s)\n",
    "\n",
    "reverseVowels(s)\n",
    "        \n",
    "        "
   ]
  },
  {
   "cell_type": "code",
   "execution_count": null,
   "metadata": {},
   "outputs": [],
   "source": [
    "\"\"\"\n",
    "Task:\n",
    "\n",
    "Given two strings s and t, return true if t is an anagram of s, and false otherwise.\n",
    "\n",
    "Definition: An Anagram is a word or phrase formed by rearranging the letters of a different word or phrase, using all the original letters exactly once.\n",
    "\n",
    "\n",
    "Examples:\n",
    "             s = 'abcd'      t = 'abdc'     ->  True\n",
    "             s = 'data'      t = 'math'     ->  False\n",
    "             s = 'awesome'   t = 'eeawmos'  ->  True\n",
    "             s = 'abca'      t = 'abcaa'    ->  False\n",
    "\n",
    "Constraints:\n",
    "            1 <= s.length, t.length <= 50000\n",
    "            s and t consist of lowercase English letters.\n",
    "            Cannot import in any libraries to solve the question\n",
    "\"\"\"\n",
    "\n",
    "\n",
    "def is_anagram(s: str, t: str) -> bool:\n",
    "  \"\"\"Given two strings s and t, return true if t is\n",
    "  an anagram of s, and false otherwise.\n",
    "  \n",
    "  Args:\n",
    "    s (str): input string 1\n",
    "    t (str): input string 2\n",
    "    \n",
    "  Returns:\n",
    "    bool: True if s and t are anagrams, False otherwise\n",
    "  \"\"\"\n",
    "  pass\n",
    "\n",
    "  counter_s={}\n",
    "  for index, char in enumerate(s):\n",
    "    if char not in counter_s:\n",
    "      counter_s[char]=0      \n",
    "    counter_s[char]+=1\n",
    "\n",
    "  counter_t={}\n",
    "  for index, char in enumerate(t):\n",
    "    if char not in counter_t:\n",
    "      counter_t[char]=0      \n",
    "    counter_t[char]+=1\n",
    "\n",
    "  for k,v in counter_s.items():\n",
    "    \n",
    "\n",
    "  # # if len(t) == len(s):\n",
    "  #   if \n",
    "\n",
    "\n",
    "# tests (do not edit)\n",
    "assert is_anagram(s='abcd', t='abdc')\n",
    "assert not is_anagram(s='data', t='math')\n",
    "assert is_anagram(s='awesome', t='eeawmos')\n",
    "assert not is_anagram(s='abca', t='abcaa')\n",
    "assert not is_anagram(s='abcaa', t='abca')\n",
    "assert not is_anagram(s='aa', t='aaa')\n",
    "assert not is_anagram(s='aaa', t='aaab')\n",
    "assert not is_anagram(s='aaab', t='aaa')\n",
    "assert not is_anagram(s='aaab', t='aabb')\n",
    "print('All tests passed!')\n"
   ]
  },
  {
   "cell_type": "code",
   "execution_count": 2,
   "metadata": {},
   "outputs": [
    {
     "ename": "FileNotFoundError",
     "evalue": "[Errno 2] No such file or directory: 'data/employee.csv'",
     "output_type": "error",
     "traceback": [
      "\u001b[0;31m---------------------------------------------------------------------------\u001b[0m",
      "\u001b[0;31mFileNotFoundError\u001b[0m                         Traceback (most recent call last)",
      "Cell \u001b[0;32mIn[2], line 14\u001b[0m\n\u001b[1;32m      1\u001b[0m \u001b[39mimport\u001b[39;00m \u001b[39mpandas\u001b[39;00m \u001b[39mas\u001b[39;00m \u001b[39mpd\u001b[39;00m\n\u001b[1;32m      2\u001b[0m \u001b[39m\"\"\"\u001b[39;00m\n\u001b[1;32m      3\u001b[0m \u001b[39mFind the average total compensation based on employee titles and gender.\u001b[39;00m\n\u001b[1;32m      4\u001b[0m \n\u001b[0;32m   (...)\u001b[0m\n\u001b[1;32m     12\u001b[0m \u001b[39mThis task is to be completed using the Pandas Library.\u001b[39;00m\n\u001b[1;32m     13\u001b[0m \u001b[39m\"\"\"\u001b[39;00m\n\u001b[0;32m---> 14\u001b[0m employee_df \u001b[39m=\u001b[39m pd\u001b[39m.\u001b[39;49mread_csv(\u001b[39m\"\u001b[39;49m\u001b[39mdata/employee.csv\u001b[39;49m\u001b[39m\"\u001b[39;49m)\n\u001b[1;32m     15\u001b[0m bonus_df \u001b[39m=\u001b[39m pd\u001b[39m.\u001b[39mread_csv(\u001b[39m\"\u001b[39m\u001b[39mdata/bonus.csv\u001b[39m\u001b[39m\"\u001b[39m)\n\u001b[1;32m     16\u001b[0m title_df \u001b[39m=\u001b[39m pd\u001b[39m.\u001b[39mread_csv(\u001b[39m\"\u001b[39m\u001b[39mdata/title.csv\u001b[39m\u001b[39m\"\u001b[39m)\n",
      "File \u001b[0;32m~/DS/HackerHank/env/lib/python3.10/site-packages/pandas/util/_decorators.py:211\u001b[0m, in \u001b[0;36mdeprecate_kwarg.<locals>._deprecate_kwarg.<locals>.wrapper\u001b[0;34m(*args, **kwargs)\u001b[0m\n\u001b[1;32m    209\u001b[0m     \u001b[39melse\u001b[39;00m:\n\u001b[1;32m    210\u001b[0m         kwargs[new_arg_name] \u001b[39m=\u001b[39m new_arg_value\n\u001b[0;32m--> 211\u001b[0m \u001b[39mreturn\u001b[39;00m func(\u001b[39m*\u001b[39;49margs, \u001b[39m*\u001b[39;49m\u001b[39m*\u001b[39;49mkwargs)\n",
      "File \u001b[0;32m~/DS/HackerHank/env/lib/python3.10/site-packages/pandas/util/_decorators.py:331\u001b[0m, in \u001b[0;36mdeprecate_nonkeyword_arguments.<locals>.decorate.<locals>.wrapper\u001b[0;34m(*args, **kwargs)\u001b[0m\n\u001b[1;32m    325\u001b[0m \u001b[39mif\u001b[39;00m \u001b[39mlen\u001b[39m(args) \u001b[39m>\u001b[39m num_allow_args:\n\u001b[1;32m    326\u001b[0m     warnings\u001b[39m.\u001b[39mwarn(\n\u001b[1;32m    327\u001b[0m         msg\u001b[39m.\u001b[39mformat(arguments\u001b[39m=\u001b[39m_format_argument_list(allow_args)),\n\u001b[1;32m    328\u001b[0m         \u001b[39mFutureWarning\u001b[39;00m,\n\u001b[1;32m    329\u001b[0m         stacklevel\u001b[39m=\u001b[39mfind_stack_level(),\n\u001b[1;32m    330\u001b[0m     )\n\u001b[0;32m--> 331\u001b[0m \u001b[39mreturn\u001b[39;00m func(\u001b[39m*\u001b[39;49margs, \u001b[39m*\u001b[39;49m\u001b[39m*\u001b[39;49mkwargs)\n",
      "File \u001b[0;32m~/DS/HackerHank/env/lib/python3.10/site-packages/pandas/io/parsers/readers.py:950\u001b[0m, in \u001b[0;36mread_csv\u001b[0;34m(filepath_or_buffer, sep, delimiter, header, names, index_col, usecols, squeeze, prefix, mangle_dupe_cols, dtype, engine, converters, true_values, false_values, skipinitialspace, skiprows, skipfooter, nrows, na_values, keep_default_na, na_filter, verbose, skip_blank_lines, parse_dates, infer_datetime_format, keep_date_col, date_parser, dayfirst, cache_dates, iterator, chunksize, compression, thousands, decimal, lineterminator, quotechar, quoting, doublequote, escapechar, comment, encoding, encoding_errors, dialect, error_bad_lines, warn_bad_lines, on_bad_lines, delim_whitespace, low_memory, memory_map, float_precision, storage_options)\u001b[0m\n\u001b[1;32m    935\u001b[0m kwds_defaults \u001b[39m=\u001b[39m _refine_defaults_read(\n\u001b[1;32m    936\u001b[0m     dialect,\n\u001b[1;32m    937\u001b[0m     delimiter,\n\u001b[0;32m   (...)\u001b[0m\n\u001b[1;32m    946\u001b[0m     defaults\u001b[39m=\u001b[39m{\u001b[39m\"\u001b[39m\u001b[39mdelimiter\u001b[39m\u001b[39m\"\u001b[39m: \u001b[39m\"\u001b[39m\u001b[39m,\u001b[39m\u001b[39m\"\u001b[39m},\n\u001b[1;32m    947\u001b[0m )\n\u001b[1;32m    948\u001b[0m kwds\u001b[39m.\u001b[39mupdate(kwds_defaults)\n\u001b[0;32m--> 950\u001b[0m \u001b[39mreturn\u001b[39;00m _read(filepath_or_buffer, kwds)\n",
      "File \u001b[0;32m~/DS/HackerHank/env/lib/python3.10/site-packages/pandas/io/parsers/readers.py:605\u001b[0m, in \u001b[0;36m_read\u001b[0;34m(filepath_or_buffer, kwds)\u001b[0m\n\u001b[1;32m    602\u001b[0m _validate_names(kwds\u001b[39m.\u001b[39mget(\u001b[39m\"\u001b[39m\u001b[39mnames\u001b[39m\u001b[39m\"\u001b[39m, \u001b[39mNone\u001b[39;00m))\n\u001b[1;32m    604\u001b[0m \u001b[39m# Create the parser.\u001b[39;00m\n\u001b[0;32m--> 605\u001b[0m parser \u001b[39m=\u001b[39m TextFileReader(filepath_or_buffer, \u001b[39m*\u001b[39;49m\u001b[39m*\u001b[39;49mkwds)\n\u001b[1;32m    607\u001b[0m \u001b[39mif\u001b[39;00m chunksize \u001b[39mor\u001b[39;00m iterator:\n\u001b[1;32m    608\u001b[0m     \u001b[39mreturn\u001b[39;00m parser\n",
      "File \u001b[0;32m~/DS/HackerHank/env/lib/python3.10/site-packages/pandas/io/parsers/readers.py:1442\u001b[0m, in \u001b[0;36mTextFileReader.__init__\u001b[0;34m(self, f, engine, **kwds)\u001b[0m\n\u001b[1;32m   1439\u001b[0m     \u001b[39mself\u001b[39m\u001b[39m.\u001b[39moptions[\u001b[39m\"\u001b[39m\u001b[39mhas_index_names\u001b[39m\u001b[39m\"\u001b[39m] \u001b[39m=\u001b[39m kwds[\u001b[39m\"\u001b[39m\u001b[39mhas_index_names\u001b[39m\u001b[39m\"\u001b[39m]\n\u001b[1;32m   1441\u001b[0m \u001b[39mself\u001b[39m\u001b[39m.\u001b[39mhandles: IOHandles \u001b[39m|\u001b[39m \u001b[39mNone\u001b[39;00m \u001b[39m=\u001b[39m \u001b[39mNone\u001b[39;00m\n\u001b[0;32m-> 1442\u001b[0m \u001b[39mself\u001b[39m\u001b[39m.\u001b[39m_engine \u001b[39m=\u001b[39m \u001b[39mself\u001b[39;49m\u001b[39m.\u001b[39;49m_make_engine(f, \u001b[39mself\u001b[39;49m\u001b[39m.\u001b[39;49mengine)\n",
      "File \u001b[0;32m~/DS/HackerHank/env/lib/python3.10/site-packages/pandas/io/parsers/readers.py:1735\u001b[0m, in \u001b[0;36mTextFileReader._make_engine\u001b[0;34m(self, f, engine)\u001b[0m\n\u001b[1;32m   1733\u001b[0m     \u001b[39mif\u001b[39;00m \u001b[39m\"\u001b[39m\u001b[39mb\u001b[39m\u001b[39m\"\u001b[39m \u001b[39mnot\u001b[39;00m \u001b[39min\u001b[39;00m mode:\n\u001b[1;32m   1734\u001b[0m         mode \u001b[39m+\u001b[39m\u001b[39m=\u001b[39m \u001b[39m\"\u001b[39m\u001b[39mb\u001b[39m\u001b[39m\"\u001b[39m\n\u001b[0;32m-> 1735\u001b[0m \u001b[39mself\u001b[39m\u001b[39m.\u001b[39mhandles \u001b[39m=\u001b[39m get_handle(\n\u001b[1;32m   1736\u001b[0m     f,\n\u001b[1;32m   1737\u001b[0m     mode,\n\u001b[1;32m   1738\u001b[0m     encoding\u001b[39m=\u001b[39;49m\u001b[39mself\u001b[39;49m\u001b[39m.\u001b[39;49moptions\u001b[39m.\u001b[39;49mget(\u001b[39m\"\u001b[39;49m\u001b[39mencoding\u001b[39;49m\u001b[39m\"\u001b[39;49m, \u001b[39mNone\u001b[39;49;00m),\n\u001b[1;32m   1739\u001b[0m     compression\u001b[39m=\u001b[39;49m\u001b[39mself\u001b[39;49m\u001b[39m.\u001b[39;49moptions\u001b[39m.\u001b[39;49mget(\u001b[39m\"\u001b[39;49m\u001b[39mcompression\u001b[39;49m\u001b[39m\"\u001b[39;49m, \u001b[39mNone\u001b[39;49;00m),\n\u001b[1;32m   1740\u001b[0m     memory_map\u001b[39m=\u001b[39;49m\u001b[39mself\u001b[39;49m\u001b[39m.\u001b[39;49moptions\u001b[39m.\u001b[39;49mget(\u001b[39m\"\u001b[39;49m\u001b[39mmemory_map\u001b[39;49m\u001b[39m\"\u001b[39;49m, \u001b[39mFalse\u001b[39;49;00m),\n\u001b[1;32m   1741\u001b[0m     is_text\u001b[39m=\u001b[39;49mis_text,\n\u001b[1;32m   1742\u001b[0m     errors\u001b[39m=\u001b[39;49m\u001b[39mself\u001b[39;49m\u001b[39m.\u001b[39;49moptions\u001b[39m.\u001b[39;49mget(\u001b[39m\"\u001b[39;49m\u001b[39mencoding_errors\u001b[39;49m\u001b[39m\"\u001b[39;49m, \u001b[39m\"\u001b[39;49m\u001b[39mstrict\u001b[39;49m\u001b[39m\"\u001b[39;49m),\n\u001b[1;32m   1743\u001b[0m     storage_options\u001b[39m=\u001b[39;49m\u001b[39mself\u001b[39;49m\u001b[39m.\u001b[39;49moptions\u001b[39m.\u001b[39;49mget(\u001b[39m\"\u001b[39;49m\u001b[39mstorage_options\u001b[39;49m\u001b[39m\"\u001b[39;49m, \u001b[39mNone\u001b[39;49;00m),\n\u001b[1;32m   1744\u001b[0m )\n\u001b[1;32m   1745\u001b[0m \u001b[39massert\u001b[39;00m \u001b[39mself\u001b[39m\u001b[39m.\u001b[39mhandles \u001b[39mis\u001b[39;00m \u001b[39mnot\u001b[39;00m \u001b[39mNone\u001b[39;00m\n\u001b[1;32m   1746\u001b[0m f \u001b[39m=\u001b[39m \u001b[39mself\u001b[39m\u001b[39m.\u001b[39mhandles\u001b[39m.\u001b[39mhandle\n",
      "File \u001b[0;32m~/DS/HackerHank/env/lib/python3.10/site-packages/pandas/io/common.py:856\u001b[0m, in \u001b[0;36mget_handle\u001b[0;34m(path_or_buf, mode, encoding, compression, memory_map, is_text, errors, storage_options)\u001b[0m\n\u001b[1;32m    851\u001b[0m \u001b[39melif\u001b[39;00m \u001b[39misinstance\u001b[39m(handle, \u001b[39mstr\u001b[39m):\n\u001b[1;32m    852\u001b[0m     \u001b[39m# Check whether the filename is to be opened in binary mode.\u001b[39;00m\n\u001b[1;32m    853\u001b[0m     \u001b[39m# Binary mode does not support 'encoding' and 'newline'.\u001b[39;00m\n\u001b[1;32m    854\u001b[0m     \u001b[39mif\u001b[39;00m ioargs\u001b[39m.\u001b[39mencoding \u001b[39mand\u001b[39;00m \u001b[39m\"\u001b[39m\u001b[39mb\u001b[39m\u001b[39m\"\u001b[39m \u001b[39mnot\u001b[39;00m \u001b[39min\u001b[39;00m ioargs\u001b[39m.\u001b[39mmode:\n\u001b[1;32m    855\u001b[0m         \u001b[39m# Encoding\u001b[39;00m\n\u001b[0;32m--> 856\u001b[0m         handle \u001b[39m=\u001b[39m \u001b[39mopen\u001b[39;49m(\n\u001b[1;32m    857\u001b[0m             handle,\n\u001b[1;32m    858\u001b[0m             ioargs\u001b[39m.\u001b[39;49mmode,\n\u001b[1;32m    859\u001b[0m             encoding\u001b[39m=\u001b[39;49mioargs\u001b[39m.\u001b[39;49mencoding,\n\u001b[1;32m    860\u001b[0m             errors\u001b[39m=\u001b[39;49merrors,\n\u001b[1;32m    861\u001b[0m             newline\u001b[39m=\u001b[39;49m\u001b[39m\"\u001b[39;49m\u001b[39m\"\u001b[39;49m,\n\u001b[1;32m    862\u001b[0m         )\n\u001b[1;32m    863\u001b[0m     \u001b[39melse\u001b[39;00m:\n\u001b[1;32m    864\u001b[0m         \u001b[39m# Binary mode\u001b[39;00m\n\u001b[1;32m    865\u001b[0m         handle \u001b[39m=\u001b[39m \u001b[39mopen\u001b[39m(handle, ioargs\u001b[39m.\u001b[39mmode)\n",
      "\u001b[0;31mFileNotFoundError\u001b[0m: [Errno 2] No such file or directory: 'data/employee.csv'"
     ]
    }
   ],
   "source": [
    "import pandas as pd\n",
    "\"\"\"\n",
    "Find the average total compensation based on employee titles and gender.\n",
    "\n",
    "Total compensation is calculated by adding both the salary and bonus of each employee.\n",
    "However, not every employee receives a bonus so disregard employees without bonuses in your calculation.\n",
    "Employees can receive more than one bonus.\n",
    "\n",
    "Input: 3 DataFrames (employee_df [contains employee info], bonus_df [contains bonus], title_df [contains employee job info])\n",
    "Output the employee title, gender (i.e., sex), along with the average total compensation.\n",
    "\n",
    "This task is to be completed using the Pandas Library.\n",
    "\"\"\"\n",
    "employee_df = pd.read_csv(\"data/employee.csv\")\n",
    "bonus_df = pd.read_csv(\"data/bonus.csv\")\n",
    "title_df = pd.read_csv(\"data/title.csv\")\n",
    "\"\"\"\n",
    "Data preview\n",
    "\"\"\"\n",
    "\n",
    "print(employee_df.head())\n",
    "print(bonus_df.head())\n",
    "print(title_df.head())\n",
    "\"\"\"\n",
    "EXPECTED OUTPUT:\n",
    "\n",
    "                  total_comp\n",
    "sex title                   \n",
    "F   Manager         209500.0\n",
    "M   Auditor           2200.0\n",
    "    Sales             4600.0\n",
    "    Senior Sales      5350.0\n",
    "\n",
    "\"\"\"\n",
    "\"\"\"\n",
    "Implement solution below:\n",
    "\"\"\"\n",
    "\n",
    "\n",
    "####################\n",
    "\n",
    "import pandas as pd\n",
    "\"\"\"\n",
    "Find the average total compensation based on employee titles and gender.\n",
    "\n",
    "Total compensation is calculated by adding both the salary and bonus of each employee.\n",
    "However, not every employee receives a bonus so disregard employees without bonuses in your calculation.\n",
    "Employees can receive more than one bonus.\n",
    "\n",
    "Input: 3 DataFrames (employee_df [contains employee info], bonus_df [contains bonus], title_df [contains employee job info])\n",
    "Output the employee title, gender (i.e., sex), along with the average total compensation.\n",
    "\n",
    "This task is to be completed using the Pandas Library.\n",
    "\"\"\"\n",
    "employee_df = pd.read_csv(\"data/employee.csv\")\n",
    "bonus_df = pd.read_csv(\"data/bonus.csv\")\n",
    "title_df = pd.read_csv(\"data/title.csv\")\n",
    "\"\"\"\n",
    "Data preview\n",
    "\"\"\"\n",
    "\n",
    "print(employee_df.head())\n",
    "print(bonus_df.head())\n",
    "print(title_df.head())\n",
    "\"\"\"\n",
    "EXPECTED OUTPUT:\n",
    "\n",
    "                  total_comp\n",
    "sex title                   \n",
    "F   Manager         209500.0\n",
    "M   Auditor           2200.0\n",
    "    Sales             4600.0\n",
    "    Senior Sales      5350.0\n",
    "\n",
    "\"\"\"\n",
    "\"\"\"\n",
    "Implement solution below:\n",
    "\"\"\"\n",
    "df1=pd.merge(left=employee_df, right=bonus_df, how='inner', left_on='id', right_on='worker_ref_id')\n",
    "\n",
    "df=pd.merge(left=df1, right=title_df, how='inner', left_on='id', right_on='employee_id')\n",
    "\n",
    "\n",
    "aux=df[['title', 'sex', 'salary', 'bonus']].groupby(['title', 'sex']).mean()\n",
    "\n",
    "print(aux)\n",
    "\n"
   ]
  }
 ],
 "metadata": {
  "kernelspec": {
   "display_name": "env",
   "language": "python",
   "name": "python3"
  },
  "language_info": {
   "codemirror_mode": {
    "name": "ipython",
    "version": 3
   },
   "file_extension": ".py",
   "mimetype": "text/x-python",
   "name": "python",
   "nbconvert_exporter": "python",
   "pygments_lexer": "ipython3",
   "version": "3.10.6"
  },
  "orig_nbformat": 4,
  "vscode": {
   "interpreter": {
    "hash": "b15c5648db5637feb81fcae916c610f06fa0d80f6bc4885c25e80cd1fedb8bfc"
   }
  }
 },
 "nbformat": 4,
 "nbformat_minor": 2
}
