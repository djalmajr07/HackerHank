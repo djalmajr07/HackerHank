{
 "cells": [
  {
   "attachments": {},
   "cell_type": "markdown",
   "metadata": {},
   "source": [
    "# Imports"
   ]
  },
  {
   "cell_type": "markdown",
   "metadata": {},
   "source": [
    "# Imports"
   ]
  },
  {
   "cell_type": "code",
   "execution_count": 2,
   "metadata": {},
   "outputs": [],
   "source": [
    "import math\n",
    "import os\n",
    "import random\n",
    "import re\n",
    "import sys"
   ]
  },
  {
   "attachments": {},
   "cell_type": "markdown",
   "metadata": {},
   "source": [
    "# Task"
   ]
  },
  {
   "attachments": {},
   "cell_type": "markdown",
   "metadata": {},
   "source": [
    "Exercise 3: Write a program to remove duplicates in a string.\n"
   ]
  },
  {
   "cell_type": "code",
   "execution_count": null,
   "metadata": {},
   "outputs": [],
   "source": [
    "a=[]\n",
    "word=input('enter a word')\n",
    "\n",
    "\n",
    "for letter in range(len(word)):\n",
    "    if word[letter] not in a:\n",
    "        a.append(word[letter])\n",
    "    else:\n",
    "        pass\n",
    "    \n",
    "for i in range(len(a)):\n",
    "    print(a[i], end= \" \")"
   ]
  },
  {
   "attachments": {},
   "cell_type": "markdown",
   "metadata": {},
   "source": [
    "Exercise 4: Write a program to count the number of letters in a word.\n"
   ]
  },
  {
   "cell_type": "code",
   "execution_count": null,
   "metadata": {},
   "outputs": [],
   "source": [
    "n = input(\"Enter a string \")\n",
    "count = 0\n",
    "for i in range(len(n)):\n",
    "    count = count + 1\n",
    "print(count)"
   ]
  },
  {
   "attachments": {},
   "cell_type": "markdown",
   "metadata": {},
   "source": [
    "Exercise 5: Python program to count the occurrence of each character in a word.\n"
   ]
  },
  {
   "attachments": {},
   "cell_type": "markdown",
   "metadata": {},
   "source": [
    "s = 'abcd'      t = 'abdc'     ->  True\n",
    "             s = 'data'      t = 'math'     ->  False\n",
    "             s = 'awesome'   t = 'eeawmos'  ->  True\n",
    "             s = 'abca'      t = 'abcaa'    ->  False"
   ]
  },
  {
   "cell_type": "code",
   "execution_count": 9,
   "metadata": {},
   "outputs": [
    {
     "data": {
      "text/plain": [
       "{'a': 2, 'b': 1, 'c': 1}"
      ]
     },
     "execution_count": 9,
     "metadata": {},
     "output_type": "execute_result"
    }
   ],
   "source": [
    "counter1={}\n",
    "\n",
    "word='abca'\n",
    "for element in word:\n",
    "    if element in counter1:\n",
    "        counter1[element]+= 1\n",
    "    else:\n",
    "        counter1[element]= 1\n",
    "counter1"
   ]
  },
  {
   "cell_type": "code",
   "execution_count": 10,
   "metadata": {},
   "outputs": [
    {
     "data": {
      "text/plain": [
       "{'a': 3, 'b': 1, 'c': 1}"
      ]
     },
     "execution_count": 10,
     "metadata": {},
     "output_type": "execute_result"
    }
   ],
   "source": [
    "counter2={}\n",
    "\n",
    "word='abcaa'\n",
    "for element in word:\n",
    "    if element in counter2:\n",
    "        counter2[element]+= 1\n",
    "    else:\n",
    "        counter2[element]= 1\n",
    "counter2"
   ]
  },
  {
   "cell_type": "code",
   "execution_count": 12,
   "metadata": {},
   "outputs": [
    {
     "name": "stdout",
     "output_type": "stream",
     "text": [
      "False\n"
     ]
    }
   ],
   "source": [
    "\n",
    "\n",
    "if counter1 == counter2:\n",
    "    print(True)\n",
    "else:\n",
    "    print(False)"
   ]
  },
  {
   "cell_type": "markdown",
   "metadata": {},
   "source": [
    "There is an array A consisting of N integers. What is the maximum sum of two integers from A that share their first and last digits? For example, 1007 and 167 share their first (1) and last (7) digits, whereas 2002 and 55 do not.\n",
    "Wite a function.\n",
    "def solution (A)\n",
    "that, given an array A consisting of N integers, returns the maximum sum of two integers that share their first and last digits. If there are no two integgs that share their first and last digits, the function should retum -1.\n",
    "Examples:\n",
    "1. Given A = [130, 191, 200, 10], the function should return 140. The only integers in A that share first and last digits are 130\n",
    "and 10.\n",
    "2. Given A = [405, 45, 300, 300], the function should return 600. There are two pairs of integers that share first and last\n",
    "digits: (405, 45) and (300, 300). The sum of the two 300s is bigger than the sum of 405 and 45.\n",
    "3. Given A = [50, 222, 49, 52, 25], the function should return -1. There are no two integers that share their first and last\n",
    "digits.\n",
    "4. Given A = (30,909, 3190, 99, 3990, 9009), the function should return 9918.\n",
    "Write an efficient algorithm for the following assumptions:\n",
    "• Nis an integer within the range [1..100,000);\n",
    "• each element of array A is an integer within the range [10..1,000,000,000].\n",
    "Copyright 2009 - 2023 by Codility Limited. All Rights Reserved. Unauthorized copying, publication or disclosure prohibited."
   ]
  },
  {
   "cell_type": "code",
   "execution_count": null,
   "metadata": {},
   "outputs": [],
   "source": [
    "A = [130, 191, 200, 10]"
   ]
  }
 ],
 "metadata": {
  "kernelspec": {
   "display_name": "env",
   "language": "python",
   "name": "python3"
  },
  "language_info": {
   "codemirror_mode": {
    "name": "ipython",
    "version": 3
   },
   "file_extension": ".py",
   "mimetype": "text/x-python",
   "name": "python",
   "nbconvert_exporter": "python",
   "pygments_lexer": "ipython3",
   "version": "3.10.6"
  },
  "orig_nbformat": 4,
  "vscode": {
   "interpreter": {
    "hash": "b15c5648db5637feb81fcae916c610f06fa0d80f6bc4885c25e80cd1fedb8bfc"
   }
  }
 },
 "nbformat": 4,
 "nbformat_minor": 2
}
