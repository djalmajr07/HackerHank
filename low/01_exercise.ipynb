{
 "cells": [
  {
   "attachments": {},
   "cell_type": "markdown",
   "metadata": {},
   "source": [
    "# Imports"
   ]
  },
  {
   "cell_type": "code",
   "execution_count": 1,
   "metadata": {},
   "outputs": [],
   "source": [
    "import math\n",
    "import os\n",
    "import random\n",
    "import re\n",
    "import sys"
   ]
  },
  {
   "attachments": {},
   "cell_type": "markdown",
   "metadata": {},
   "source": [
    "# Task\n",
    "- if else exercise \n",
    "- https://www.hackerrank.com/challenges/py-if-else/problem?isFullScreen=true"
   ]
  },
  {
   "attachments": {},
   "cell_type": "markdown",
   "metadata": {},
   "source": [
    "Given an integer, n, perform the following conditional actions:\n",
    "\n",
    "\n",
    "If n is odd, print Weird\n",
    "\n",
    "\n",
    "If n is even and in the inclusive range of 2 to 5 , print Not Weird\n",
    "\n",
    "\n",
    "If n is even and in the inclusive range of 6 to 20, print Weird\n",
    "\n",
    "\n",
    "If n is even and greater than 20 , print Not Weird\n",
    "\n"
   ]
  },
  {
   "cell_type": "code",
   "execution_count": 1,
   "metadata": {},
   "outputs": [
    {
     "name": "stdout",
     "output_type": "stream",
     "text": [
      "Not Weird\n"
     ]
    }
   ],
   "source": [
    "if __name__ == '__main__':\n",
    "    n = int(input().strip())\n",
    "    if 1 <= n <= 100:\n",
    "        if n % 2 != 0:\n",
    "            print('Weird')\n",
    "        elif n % 2 == 0 and range(2, 6):\n",
    "            print('Not Weird')\n",
    "        elif n % 2 == 0 and range(6, 21):\n",
    "            print('Weird')\n",
    "        elif n % 2 == 0 and n > 20:\n",
    "            print('Not Weird')\n",
    "    else:\n",
    "        print('plase insert a number between 1 and 100')"
   ]
  }
 ],
 "metadata": {
  "kernelspec": {
   "display_name": "env",
   "language": "python",
   "name": "python3"
  },
  "language_info": {
   "codemirror_mode": {
    "name": "ipython",
    "version": 3
   },
   "file_extension": ".py",
   "mimetype": "text/x-python",
   "name": "python",
   "nbconvert_exporter": "python",
   "pygments_lexer": "ipython3",
   "version": "3.10.6"
  },
  "orig_nbformat": 4,
  "vscode": {
   "interpreter": {
    "hash": "b15c5648db5637feb81fcae916c610f06fa0d80f6bc4885c25e80cd1fedb8bfc"
   }
  }
 },
 "nbformat": 4,
 "nbformat_minor": 2
}
