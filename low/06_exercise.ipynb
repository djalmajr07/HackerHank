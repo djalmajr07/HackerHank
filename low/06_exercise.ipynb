{
 "cells": [
  {
   "attachments": {},
   "cell_type": "markdown",
   "metadata": {},
   "source": [
    "# Imports"
   ]
  },
  {
   "cell_type": "code",
   "execution_count": null,
   "metadata": {},
   "outputs": [],
   "source": []
  },
  {
   "attachments": {},
   "cell_type": "markdown",
   "metadata": {},
   "source": [
    "# Task"
   ]
  },
  {
   "cell_type": "code",
   "execution_count": null,
   "metadata": {},
   "outputs": [],
   "source": [
    "# https://www.hackerrank.com/challenges/find-a-string/problem?isFullScreen=true&h_r=next-challenge&h_v=zen&h_r=next-challenge&h_v=zen&h_r=next-challenge&h_v=zen"
   ]
  },
  {
   "cell_type": "code",
   "execution_count": 22,
   "metadata": {},
   "outputs": [
    {
     "name": "stdout",
     "output_type": "stream",
     "text": [
      "2\n"
     ]
    }
   ],
   "source": [
    "def overlapping_count(string, sub_string):\n",
    "    sub_string_len=len(sub_string)\n",
    "    return sum( char == sub_string[0] and string[index:index + 3] == sub_string for index, char in enumerate(string))\n",
    "\n",
    "\n",
    "string = \"ABCDCDC\"\n",
    "print(overlapping_count(string, \"CDC\"))"
   ]
  },
  {
   "cell_type": "code",
   "execution_count": 20,
   "metadata": {},
   "outputs": [
    {
     "name": "stdout",
     "output_type": "stream",
     "text": [
      "A\n",
      "0\n",
      "ABC \n",
      "\n",
      "B\n",
      "1\n",
      "BCD \n",
      "\n",
      "C\n",
      "2\n",
      "CDC \n",
      "\n",
      "D\n",
      "3\n",
      "DCD \n",
      "\n",
      "C\n",
      "4\n",
      "CDC \n",
      "\n",
      "D\n",
      "5\n",
      "DC \n",
      "\n",
      "C\n",
      "6\n",
      "C \n",
      "\n"
     ]
    }
   ],
   "source": [
    "for index, char in enumerate(string):\n",
    "    print(char)\n",
    "    print(index)\n",
    "    print(string[index:index + 3], '\\n')"
   ]
  },
  {
   "cell_type": "code",
   "execution_count": null,
   "metadata": {},
   "outputs": [],
   "source": [
    "# breaking down the code \n",
    "\n",
    "char == sub_string[0] and string[index:index + 3] == sub_string for index, char in enumerate(string)\n",
    "\n",
    "# my charactere must start with the same as sub_string\n",
    "\n",
    "char == sub_string[0] \n",
    "\n",
    "# and \n",
    "\n",
    "# my string must be sliced by the lenght of the substring and compared ex( abc = cdc? no --- cdc = cdc? yes sum one)\n",
    "string[i:i + sub_string_len] == sub_string \n",
    "\n",
    "# index of the string and char is the letter\n",
    "for i, char in enumerate(string)\n"
   ]
  }
 ],
 "metadata": {
  "kernelspec": {
   "display_name": "env",
   "language": "python",
   "name": "python3"
  },
  "language_info": {
   "codemirror_mode": {
    "name": "ipython",
    "version": 3
   },
   "file_extension": ".py",
   "mimetype": "text/x-python",
   "name": "python",
   "nbconvert_exporter": "python",
   "pygments_lexer": "ipython3",
   "version": "3.10.6"
  },
  "orig_nbformat": 4,
  "vscode": {
   "interpreter": {
    "hash": "b15c5648db5637feb81fcae916c610f06fa0d80f6bc4885c25e80cd1fedb8bfc"
   }
  }
 },
 "nbformat": 4,
 "nbformat_minor": 2
}
