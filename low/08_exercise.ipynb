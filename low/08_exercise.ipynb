{
 "cells": [
  {
   "attachments": {},
   "cell_type": "markdown",
   "metadata": {},
   "source": [
    "# Imports"
   ]
  },
  {
   "cell_type": "code",
   "execution_count": null,
   "metadata": {},
   "outputs": [],
   "source": []
  },
  {
   "cell_type": "code",
   "execution_count": null,
   "metadata": {},
   "outputs": [],
   "source": []
  },
  {
   "attachments": {},
   "cell_type": "markdown",
   "metadata": {},
   "source": [
    "# Task"
   ]
  },
  {
   "cell_type": "code",
   "execution_count": null,
   "metadata": {},
   "outputs": [],
   "source": [
    "# https://www.hackerrank.com/challenges/text-wrap/problem?isFullScreen=true&h_r=next-challenge&h_v=zen&h_r=next-challenge&h_v=zen"
   ]
  },
  {
   "cell_type": "code",
   "execution_count": 16,
   "metadata": {},
   "outputs": [
    {
     "data": {
      "text/plain": [
       "'Djalma Junior'"
      ]
     },
     "execution_count": 16,
     "metadata": {},
     "output_type": "execute_result"
    }
   ],
   "source": [
    "def solve(s):\n",
    "    names=s.split()\n",
    "    for tobecap in names:\n",
    "        s=s.replace(tobecap, tobecap.capitalize())\n",
    "    return s\n",
    "\n",
    "solve('djalma junior')"
   ]
  },
  {
   "cell_type": "code",
   "execution_count": 33,
   "metadata": {},
   "outputs": [
    {
     "data": {
      "text/plain": [
       "'hACKERrANK.COM PRESENTS \"pYTHONIST 2\".'"
      ]
     },
     "execution_count": 33,
     "metadata": {},
     "output_type": "execute_result"
    }
   ],
   "source": [
    "# s='HackerRank.com presents \"Pythonist 2\".'\n",
    "\n",
    "\n",
    "def swap_case(s):\n",
    "    new_s = list()\n",
    "    for char in s:\n",
    "        if char.islower():\n",
    "            new_s.append(char.upper())\n",
    "        elif char.isupper():\n",
    "            new_s.append(char.lower())\n",
    "        else: \n",
    "            new_s.append(char)\n",
    "    return \"\".join(new_s)\n",
    "\n",
    "\n",
    "\n",
    "swap_case('HackerRank.com presents \"Pythonist 2\".')"
   ]
  },
  {
   "cell_type": "code",
   "execution_count": 35,
   "metadata": {},
   "outputs": [
    {
     "data": {
      "text/plain": [
       "'hACKERrANK.COM PRESENTS \"pYTHONIST 2\".'"
      ]
     },
     "execution_count": 35,
     "metadata": {},
     "output_type": "execute_result"
    }
   ],
   "source": [
    "def swap_case(s):\n",
    "    new_s1=[]\n",
    "    for index, char in enumerate(s):\n",
    "        if char.islower():\n",
    "            new_s1.append(char.upper())\n",
    "        elif char.isupper():\n",
    "            new_s1.append(char.lower())\n",
    "        else: \n",
    "            new_s1.append(char)\n",
    "    return \"\".join(new_s1)\n",
    "\n",
    "swap_case('HackerRank.com presents \"Pythonist 2\".')"
   ]
  }
 ],
 "metadata": {
  "kernelspec": {
   "display_name": "env",
   "language": "python",
   "name": "python3"
  },
  "language_info": {
   "codemirror_mode": {
    "name": "ipython",
    "version": 3
   },
   "file_extension": ".py",
   "mimetype": "text/x-python",
   "name": "python",
   "nbconvert_exporter": "python",
   "pygments_lexer": "ipython3",
   "version": "3.10.6"
  },
  "orig_nbformat": 4,
  "vscode": {
   "interpreter": {
    "hash": "b15c5648db5637feb81fcae916c610f06fa0d80f6bc4885c25e80cd1fedb8bfc"
   }
  }
 },
 "nbformat": 4,
 "nbformat_minor": 2
}
