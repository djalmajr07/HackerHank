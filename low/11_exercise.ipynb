{
 "cells": [
  {
   "attachments": {},
   "cell_type": "markdown",
   "metadata": {},
   "source": [
    "# Imports"
   ]
  },
  {
   "cell_type": "code",
   "execution_count": null,
   "metadata": {},
   "outputs": [],
   "source": []
  },
  {
   "attachments": {},
   "cell_type": "markdown",
   "metadata": {},
   "source": [
    "# Task"
   ]
  },
  {
   "cell_type": "code",
   "execution_count": null,
   "metadata": {},
   "outputs": [],
   "source": [
    "# https://www.hackerrank.com/challenges/py-set-discard-remove-pop/problem?isFullScreen=true&h_r=next-challenge&h_v=zen\n",
    "\n",
    "\n",
    "\n",
    "You have a non-empty set , and you have to execute  commands given in  lines.\n",
    "\n",
    "The commands will be pop, remove and discard.\n",
    "\n",
    "Input Format\n",
    "\n",
    "The first line contains integer , the number of elements in the set .\n",
    "The second line contains  space separated elements of set . All of the elements are non-negative integers, less than or equal to 9.\n",
    "The third line contains integer , the number of commands.\n",
    "The next  lines contains either pop, remove and/or discard commands followed by their associated value.\n",
    "\n",
    "Constraints\n",
    "\n",
    "\n",
    "\n",
    "Output Format\n",
    "\n",
    "Print the sum of the elements of set  on a single line.\n"
   ]
  },
  {
   "cell_type": "code",
   "execution_count": null,
   "metadata": {},
   "outputs": [],
   "source": [
    "9\n",
    "1 2 3 4 5 6 7 8 9\n",
    "10\n",
    "pop\n",
    "remove 9\n",
    "discard 9\n",
    "discard 8\n",
    "remove 7\n",
    "pop \n",
    "discard 6\n",
    "remove 5\n",
    "pop \n",
    "discard 5"
   ]
  },
  {
   "cell_type": "code",
   "execution_count": 1,
   "metadata": {},
   "outputs": [
    {
     "name": "stdout",
     "output_type": "stream",
     "text": [
      "6\n"
     ]
    }
   ],
   "source": [
    "n = int(input())\n",
    "s = set(map(int, input().split()))\n",
    "number_of_commands=int(input())\n",
    "\n",
    "for _ in range(number_of_commands):\n",
    "    instructions = list(input().split())\n",
    "    if 'pop' in instructions[0]:\n",
    "        s.pop()\n",
    "        \n",
    "    elif 'remove' in instructions[0]:\n",
    "        s.remove(int(instructions[-1]))\n",
    "        \n",
    "    elif 'discard' in instructions[0]:\n",
    "        s.discard(int(instructions[-1]))\n",
    "\n",
    "print(sum(s))"
   ]
  }
 ],
 "metadata": {
  "kernelspec": {
   "display_name": "env",
   "language": "python",
   "name": "python3"
  },
  "language_info": {
   "codemirror_mode": {
    "name": "ipython",
    "version": 3
   },
   "file_extension": ".py",
   "mimetype": "text/x-python",
   "name": "python",
   "nbconvert_exporter": "python",
   "pygments_lexer": "ipython3",
   "version": "3.10.6"
  },
  "orig_nbformat": 4,
  "vscode": {
   "interpreter": {
    "hash": "b15c5648db5637feb81fcae916c610f06fa0d80f6bc4885c25e80cd1fedb8bfc"
   }
  }
 },
 "nbformat": 4,
 "nbformat_minor": 2
}
