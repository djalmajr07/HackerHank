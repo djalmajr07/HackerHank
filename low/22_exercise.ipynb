{
 "cells": [
  {
   "attachments": {},
   "cell_type": "markdown",
   "metadata": {},
   "source": [
    "# Imports"
   ]
  },
  {
   "cell_type": "markdown",
   "metadata": {},
   "source": [
    "# Imports"
   ]
  },
  {
   "cell_type": "code",
   "execution_count": 2,
   "metadata": {},
   "outputs": [],
   "source": [
    "import math\n",
    "import os\n",
    "import random\n",
    "import re\n",
    "import sys"
   ]
  },
  {
   "attachments": {},
   "cell_type": "markdown",
   "metadata": {},
   "source": [
    "# Task"
   ]
  },
  {
   "attachments": {},
   "cell_type": "markdown",
   "metadata": {},
   "source": [
    "Consider a list (list = []). You can perform the following commands:\n",
    "1. insert i e: Insert integer e at position &\n",
    "2. print: Print the list.\n",
    "3. remove e: Delete the first occurrence of integer e.\n",
    "4. append e: Insert Integer e at the end of the list.\n",
    "5. sort: Sort the list.\n",
    "6. pop: Pop the last element from the list.\n",
    "7. reverse: Reverse the list.\n",
    "Initialize your list and read in the value of n followed by n lines of commands where each command will be of the 7 types listed above. Iterate through each command in order and perform the corresponding operation an your list."
   ]
  },
  {
   "cell_type": "code",
   "execution_count": null,
   "metadata": {},
   "outputs": [],
   "source": []
  },
  {
   "cell_type": "code",
   "execution_count": 48,
   "metadata": {},
   "outputs": [
    {
     "name": "stdout",
     "output_type": "stream",
     "text": [
      "[6, 5, 10]\n",
      "[1, 5, 9, 10]\n",
      "[9, 5, 1]\n"
     ]
    }
   ],
   "source": [
    "N = int(input())\n",
    "resList = []\n",
    "for i in range(N):\n",
    "    cmd=input('Type the command, number and position if needed').split()\n",
    "\n",
    "    if cmd[0] =='insert':\n",
    "        resList.insert(int(cmd[1]), int(cmd[2]))\n",
    "\n",
    "    elif cmd[0] == 'remove':\n",
    "        resList.remove(int(cmd[1]))\n",
    "\n",
    "    elif cmd[0] == 'append':\n",
    "        resList.append(int(cmd[1]))\n",
    "\n",
    "    elif cmd[0] == 'sort':\n",
    "        resList.sort()\n",
    "\n",
    "    elif cmd[0] == 'pop':\n",
    "        resList.pop()\n",
    "\n",
    "    elif cmd[0] == 'reverse':\n",
    "        resList=resList[::-1]\n",
    "        \n",
    "    else:\n",
    "        print(resList)\n"
   ]
  }
 ],
 "metadata": {
  "kernelspec": {
   "display_name": "env",
   "language": "python",
   "name": "python3"
  },
  "language_info": {
   "codemirror_mode": {
    "name": "ipython",
    "version": 3
   },
   "file_extension": ".py",
   "mimetype": "text/x-python",
   "name": "python",
   "nbconvert_exporter": "python",
   "pygments_lexer": "ipython3",
   "version": "3.10.6"
  },
  "orig_nbformat": 4,
  "vscode": {
   "interpreter": {
    "hash": "b15c5648db5637feb81fcae916c610f06fa0d80f6bc4885c25e80cd1fedb8bfc"
   }
  }
 },
 "nbformat": 4,
 "nbformat_minor": 2
}
