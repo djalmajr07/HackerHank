{
 "cells": [
  {
   "attachments": {},
   "cell_type": "markdown",
   "metadata": {},
   "source": [
    "# Imports"
   ]
  },
  {
   "cell_type": "markdown",
   "metadata": {},
   "source": [
    "# Imports"
   ]
  },
  {
   "cell_type": "code",
   "execution_count": 2,
   "metadata": {},
   "outputs": [],
   "source": [
    "import math\n",
    "import os\n",
    "import random\n",
    "import re\n",
    "import sys"
   ]
  },
  {
   "attachments": {},
   "cell_type": "markdown",
   "metadata": {},
   "source": [
    "# Task"
   ]
  },
  {
   "attachments": {},
   "cell_type": "markdown",
   "metadata": {},
   "source": [
    "Exercise 2: Print the sum of the current number and the previous number"
   ]
  },
  {
   "cell_type": "code",
   "execution_count": 9,
   "metadata": {},
   "outputs": [
    {
     "name": "stdout",
     "output_type": "stream",
     "text": [
      "Current Number 0 Previous Number 0  Sum:  0\n",
      "Current Number 1 Previous Number 0  Sum:  1\n",
      "Current Number 2 Previous Number 1  Sum:  3\n",
      "Current Number 3 Previous Number 2  Sum:  5\n",
      "Current Number 4 Previous Number 3  Sum:  7\n",
      "Current Number 5 Previous Number 4  Sum:  9\n",
      "Current Number 6 Previous Number 5  Sum:  11\n",
      "Current Number 7 Previous Number 6  Sum:  13\n",
      "Current Number 8 Previous Number 7  Sum:  15\n",
      "Current Number 9 Previous Number 8  Sum:  17\n",
      "Current Number 10 Previous Number 9  Sum:  19\n"
     ]
    }
   ],
   "source": [
    "p=0\n",
    "\n",
    "\n",
    "for num in range(0,11):\n",
    "    somatoria=p+num\n",
    "    print(f'Current Number {num} Previous Number {p}  Sum:  {somatoria}')\n",
    "    p=num"
   ]
  },
  {
   "attachments": {},
   "cell_type": "markdown",
   "metadata": {},
   "source": [
    "Exercise 3: Print characters from a string that are present at an even index number\n",
    "\n",
    "Write a program to accept a string from the user and display characters that are present at an even index number.\n",
    "\n",
    "For example, str = \"pynative\" so you should display ‘p’, ‘n’, ‘t’, ‘v’."
   ]
  },
  {
   "cell_type": "code",
   "execution_count": 6,
   "metadata": {},
   "outputs": [
    {
     "name": "stdout",
     "output_type": "stream",
     "text": [
      "m\n",
      "n\n",
      "o\n"
     ]
    }
   ],
   "source": [
    "str1 = \"mundo\"\n",
    "for even in range(0,len(str1), 2):\n",
    "    print(str1[even])\n"
   ]
  },
  {
   "cell_type": "code",
   "execution_count": 7,
   "metadata": {},
   "outputs": [
    {
     "name": "stdout",
     "output_type": "stream",
     "text": [
      "m\n",
      "n\n",
      "o\n"
     ]
    }
   ],
   "source": [
    "for i in str1[0::2]:\n",
    "    print(i)"
   ]
  },
  {
   "cell_type": "code",
   "execution_count": 14,
   "metadata": {},
   "outputs": [
    {
     "data": {
      "text/plain": [
       "'a'"
      ]
     },
     "execution_count": 14,
     "metadata": {},
     "output_type": "execute_result"
    }
   ],
   "source": [
    "def slicing(str:str, remotion:int):\n",
    "    sliced=''\n",
    "    if remotion >= len(str):\n",
    "        print('You removed too much')\n",
    "    else:\n",
    "        sliced = str[remotion::]\n",
    "    return sliced\n",
    "slicing('ola', 2 )"
   ]
  },
  {
   "attachments": {},
   "cell_type": "markdown",
   "metadata": {},
   "source": [
    "Exercise 6: Display numbers divisible by 5 from a list\n"
   ]
  },
  {
   "cell_type": "code",
   "execution_count": 15,
   "metadata": {},
   "outputs": [
    {
     "name": "stdout",
     "output_type": "stream",
     "text": [
      "10\n",
      "20\n",
      "55\n"
     ]
    }
   ],
   "source": [
    "numbers=[10, 20, 33, 46, 55]\n",
    "for i in numbers:\n",
    "    if i % 5 ==0:\n",
    "        print(i)"
   ]
  },
  {
   "attachments": {},
   "cell_type": "markdown",
   "metadata": {},
   "source": [
    "Exercise 7: Return the count of a given substring from a string\n",
    "Write a program to find how many times substring “Emma” appears in the given string.\n",
    "\n",
    "Given:\n",
    "\n",
    "str_x = \"Emma is good developer. Emma is a writer\""
   ]
  },
  {
   "cell_type": "code",
   "execution_count": 16,
   "metadata": {},
   "outputs": [
    {
     "data": {
      "text/plain": [
       "2"
      ]
     },
     "execution_count": 16,
     "metadata": {},
     "output_type": "execute_result"
    }
   ],
   "source": [
    "str_x = \"Emma is good developer. Emma is a writer\"\n",
    "str_x.count(\"Emma\")"
   ]
  },
  {
   "cell_type": "code",
   "execution_count": 27,
   "metadata": {},
   "outputs": [
    {
     "name": "stdout",
     "output_type": "stream",
     "text": [
      "\n",
      "\n",
      "1--\n",
      "\n",
      "2--2--\n",
      "\n",
      "3--3--3--\n",
      "\n",
      "4--4--4--4--\n",
      "\n",
      "5--5--5--5--5--\n",
      "\n",
      "6--6--6--6--6--6--\n",
      "\n",
      "7--7--7--7--7--7--7--\n",
      "\n",
      "8--8--8--8--8--8--8--8--\n",
      "\n",
      "9--9--9--9--9--9--9--9--9--\n",
      "\n"
     ]
    }
   ],
   "source": [
    "\n",
    "\n",
    "for tamanho in range(10):\n",
    "    for numero in range(tamanho):\n",
    "        print (tamanho, end='--')\n",
    "    print(\"\\n\")"
   ]
  },
  {
   "cell_type": "code",
   "execution_count": 34,
   "metadata": {},
   "outputs": [
    {
     "name": "stdout",
     "output_type": "stream",
     "text": [
      "this number is palindrome\n"
     ]
    }
   ],
   "source": [
    "# pal=121\n",
    "# non_pal=123\n",
    "\n",
    "def palindrome(number):\n",
    "    pal_str=str(number)    \n",
    "\n",
    "    if pal_str == pal_str[::-1]:\n",
    "        print('this number is palindrome')\n",
    "    else:\n",
    "        print('this number is NOT palindrome')\n",
    "\n",
    "palindrome(121)"
   ]
  },
  {
   "attachments": {},
   "cell_type": "markdown",
   "metadata": {},
   "source": [
    "Exercise 10: Create a new list from a two list using the following condition\n",
    "\n",
    "Given a two list of numbers, write a program to create a new list such that the new list should contain odd numbers from the first list and even numbers from the second list."
   ]
  },
  {
   "cell_type": "code",
   "execution_count": 56,
   "metadata": {},
   "outputs": [],
   "source": [
    "list1 = [10, 20, 25, 30, 35]\n",
    "list2 = [40, 45, 60, 75, 90]"
   ]
  },
  {
   "cell_type": "code",
   "execution_count": 57,
   "metadata": {},
   "outputs": [
    {
     "name": "stdout",
     "output_type": "stream",
     "text": [
      "[25, 35, 40, 60, 90]\n"
     ]
    }
   ],
   "source": [
    "new_list=[]\n",
    "\n",
    "for i in range(len(list1)):\n",
    "    if list1[i] % 2 != 0:\n",
    "        new_list.append(list1[i])\n",
    "    if list2[i] % 2 == 0:\n",
    "        new_list.append(list2[i])\n",
    "new_list.sort()\n",
    "print(new_list)"
   ]
  },
  {
   "attachments": {},
   "cell_type": "markdown",
   "metadata": {},
   "source": [
    "Exercise 11: Write a Program to extract each digit from an integer in the reverse order.\n",
    "For example, If the given int is 7536, the output shall be “6 3 5 7“, with a space separating the digits."
   ]
  },
  {
   "cell_type": "code",
   "execution_count": 1,
   "metadata": {},
   "outputs": [
    {
     "data": {
      "text/plain": [
       "'6 3 8 7'"
      ]
     },
     "execution_count": 1,
     "metadata": {},
     "output_type": "execute_result"
    }
   ],
   "source": [
    "numb=7836\n",
    "\n",
    "numb_str=str(numb)\n",
    "\n",
    "numb_rev=numb_str.strip()[::-1]\n",
    "numb_rev_space=\" \".join(numb_rev)\n",
    "numb_rev_space\n"
   ]
  },
  {
   "cell_type": "code",
   "execution_count": 2,
   "metadata": {},
   "outputs": [
    {
     "name": "stdout",
     "output_type": "stream",
     "text": [
      "Total tax to pay is 6000.0\n"
     ]
    }
   ],
   "source": [
    "total=0\n",
    "\n",
    "income=45000\n",
    "\n",
    "if income < 10000:\n",
    "    print(f'first 10k no rate: {0}')\n",
    "elif income <= 20000:\n",
    "\n",
    "    remaining=income - 10000\n",
    "    total= total + (remaining*0.1)\n",
    "    print( f'Your income for your next 10k is: {total}')\n",
    "else:\n",
    "    # no tax\n",
    "    total=0\n",
    "\n",
    "    # +20k tax on full 10k\n",
    "    total= 10000 * 10 / 100\n",
    "\n",
    "    # excedente remover os taxados\n",
    "    total+= (income - 20000) * 20 / 100\n",
    "\n",
    "    print(\"Total tax to pay is\", total)"
   ]
  },
  {
   "attachments": {},
   "cell_type": "markdown",
   "metadata": {},
   "source": [
    "Exercise 13: Print multiplication table form 1 to 10\n"
   ]
  },
  {
   "cell_type": "code",
   "execution_count": 16,
   "metadata": {},
   "outputs": [
    {
     "name": "stdout",
     "output_type": "stream",
     "text": [
      "1  2  3  4  5  6  7  8  9  10  \n",
      "\n",
      "2  4  6  8  10  12  14  16  18  20  \n",
      "\n",
      "3  6  9  12  15  18  21  24  27  30  \n",
      "\n",
      "4  8  12  16  20  24  28  32  36  40  \n",
      "\n",
      "5  10  15  20  25  30  35  40  45  50  \n",
      "\n",
      "6  12  18  24  30  36  42  48  54  60  \n",
      "\n",
      "7  14  21  28  35  42  49  56  63  70  \n",
      "\n",
      "8  16  24  32  40  48  56  64  72  80  \n",
      "\n",
      "9  18  27  36  45  54  63  72  81  90  \n",
      "\n",
      "10  20  30  40  50  60  70  80  90  100  \n",
      "\n"
     ]
    }
   ],
   "source": [
    "for table in range(1, 11, 1):\n",
    "    for num in range(1, 11, 1):\n",
    "        multi=table * num \n",
    "        print(f'{multi} ' ,end=' ')\n",
    "    print('\\n')"
   ]
  },
  {
   "attachments": {},
   "cell_type": "markdown",
   "metadata": {},
   "source": [
    "Exercise 14: Print downward Half-Pyramid Pattern with Star (asterisk)"
   ]
  },
  {
   "cell_type": "code",
   "execution_count": 21,
   "metadata": {},
   "outputs": [
    {
     "name": "stdout",
     "output_type": "stream",
     "text": [
      "* * * * * * \n",
      "\n",
      "* * * * * \n",
      "\n",
      "* * * * \n",
      "\n",
      "* * * \n",
      "\n",
      "* * \n",
      "\n",
      "* \n",
      "\n"
     ]
    }
   ],
   "source": [
    "for line in range(6, 0, -1):\n",
    "    for ast in range(line):\n",
    "        print('*', end=' ')\n",
    "    print('\\n')"
   ]
  }
 ],
 "metadata": {
  "kernelspec": {
   "display_name": "env",
   "language": "python",
   "name": "python3"
  },
  "language_info": {
   "codemirror_mode": {
    "name": "ipython",
    "version": 3
   },
   "file_extension": ".py",
   "mimetype": "text/x-python",
   "name": "python",
   "nbconvert_exporter": "python",
   "pygments_lexer": "ipython3",
   "version": "3.10.6"
  },
  "orig_nbformat": 4,
  "vscode": {
   "interpreter": {
    "hash": "b15c5648db5637feb81fcae916c610f06fa0d80f6bc4885c25e80cd1fedb8bfc"
   }
  }
 },
 "nbformat": 4,
 "nbformat_minor": 2
}
