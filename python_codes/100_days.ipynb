{
 "cells": [
  {
   "cell_type": "code",
   "execution_count": 10,
   "metadata": {},
   "outputs": [
    {
     "name": "stdout",
     "output_type": "stream",
     "text": [
      "Welcome to the bando Name Generator\n",
      "\n",
      "\n",
      "Your band Name could be  \n"
     ]
    }
   ],
   "source": [
    "print('Welcome to the bando Name Generator')\n",
    "city=input(\"What's the name of your home city?\")\n",
    "# print(\"What's the name of your home city?\")\n",
    "print(city)\n",
    "pet=input(\"What's the name of your first pet?\")\n",
    "# print(\"What's the name of your first pet?\")\n",
    "print(pet)\n",
    "\n",
    "print(f\"Your band Name could be {city}\"+ \" \" + pet)\n"
   ]
  },
  {
   "cell_type": "code",
   "execution_count": 35,
   "metadata": {},
   "outputs": [
    {
     "name": "stdout",
     "output_type": "stream",
     "text": [
      "4\n"
     ]
    }
   ],
   "source": [
    "two_dig_number=input('two digit number')\n",
    "print(( int(two_dig_number[0]) ) + ( int( two_dig_number[1]) ))\n"
   ]
  },
  {
   "cell_type": "code",
   "execution_count": 27,
   "metadata": {},
   "outputs": [
    {
     "name": "stdout",
     "output_type": "stream",
     "text": [
      "You have 365 days, 52 weeks, 12 months left.\n"
     ]
    }
   ],
   "source": [
    "age=int(input('what is your age'))\n",
    "last=90\n",
    "\n",
    "diff=last-age\n",
    "days=diff*365\n",
    "weeks=diff*52\n",
    "months=diff*12\n",
    "\n",
    "\n",
    "print(f'You have {days} days, {weeks} weeks, {months} months left.')"
   ]
  },
  {
   "cell_type": "code",
   "execution_count": 1,
   "metadata": {},
   "outputs": [
    {
     "name": "stdout",
     "output_type": "stream",
     "text": [
      "Your BMI is 38, you are clinical obese\n"
     ]
    }
   ],
   "source": [
    "height=float(input('type your height'))\n",
    "weight=float(input('type your weight'))\n",
    "\n",
    "\n",
    "bmi= round(weight / height ** 2)\n",
    "\n",
    "if bmi <= 18.5:\n",
    "    print(f'Your BMI is {bmi}, you are underweight')\n",
    "elif bmi > 18.5 and bmi <= 25:\n",
    "    print(f'Your BMI is {bmi}, you are normal weight')\n",
    "elif bmi > 25 and bmi <= 30:\n",
    "    print(f'Your BMI is {bmi}, you are overweight')\n",
    "elif bmi > 30 and bmi <=35:\n",
    "    print(f'Your BMI is {bmi}, you are obese ')\n",
    "else:\n",
    "    print(f'Your BMI is {bmi}, you are clinical obese')"
   ]
  },
  {
   "cell_type": "code",
   "execution_count": 22,
   "metadata": {},
   "outputs": [
    {
     "data": {
      "text/plain": [
       "5.055"
      ]
     },
     "execution_count": 22,
     "metadata": {},
     "output_type": "execute_result"
    }
   ],
   "source": [
    "2022/400\n",
    "\n"
   ]
  },
  {
   "cell_type": "code",
   "execution_count": 28,
   "metadata": {},
   "outputs": [
    {
     "name": "stdout",
     "output_type": "stream",
     "text": [
      "leap year\n"
     ]
    }
   ],
   "source": [
    "year=int(input(\"Type the year desired\"))\n",
    "\n",
    "if year % 4 == 0:\n",
    "    if year % 100 == 0:\n",
    "        if year % 400 == 0:\n",
    "            print('leap year')\n",
    "        else: \n",
    "            print('NOT leap year')\n",
    "    else: \n",
    "            print('leap year')\n",
    "else: \n",
    "            print('NOT leap year')\n"
   ]
  },
  {
   "cell_type": "code",
   "execution_count": 41,
   "metadata": {},
   "outputs": [
    {
     "name": "stdout",
     "output_type": "stream",
     "text": [
      "8\n"
     ]
    }
   ],
   "source": [
    "bill=int()\n",
    "bill=8\n",
    "print(bill)"
   ]
  },
  {
   "attachments": {},
   "cell_type": "markdown",
   "metadata": {},
   "source": [
    "long way"
   ]
  },
  {
   "cell_type": "code",
   "execution_count": 45,
   "metadata": {},
   "outputs": [
    {
     "name": "stdout",
     "output_type": "stream",
     "text": [
      "Cant ride\n"
     ]
    }
   ],
   "source": [
    "height=int(input('Type your height'))\n",
    "age=int(input('Type your age'))\n",
    "photos=int(input('Type 0 for NO and 1 for YES'))\n",
    "bill=int()\n",
    "\n",
    "if height > 120:\n",
    "    if age < 12:        \n",
    "        if photos == 1:\n",
    "            bill=5+3\n",
    "            print(f\"Your bill is ${bill}\")\n",
    "        else:\n",
    "            bill=5\n",
    "            print(f\"Your bill is ${bill}\")\n",
    "    if age >= 12 and age < 18:        \n",
    "        if photos == 1:\n",
    "            bill=7+3\n",
    "            print(f\"Your bill is ${bill}\")\n",
    "        else:\n",
    "            bill=7\n",
    "            print(f\"Your bill is ${bill}\")\n",
    "    if age >=18:        \n",
    "        if photos == 1:\n",
    "            bill=12+3\n",
    "            print(f\"Your bill is ${bill}\")\n",
    "        else:\n",
    "            bill=12\n",
    "            print(f\"Your bill is ${bill}\")      \n",
    "else:\n",
    "    print('Cant ride')"
   ]
  },
  {
   "cell_type": "markdown",
   "metadata": {},
   "source": [
    "short way"
   ]
  },
  {
   "cell_type": "code",
   "execution_count": 64,
   "metadata": {},
   "outputs": [
    {
     "name": "stdout",
     "output_type": "stream",
     "text": [
      "your ticket cost is $7\n",
      "your final bill is $10\n"
     ]
    }
   ],
   "source": [
    "height=int(input('Type your height'))\n",
    "age=int(input('Type your age'))\n",
    "photos=int(input('Type 0 for NO and 1 for YES'))\n",
    "\n",
    "\n",
    "bill=0\n",
    "ticket=0\n",
    "\n",
    "if height > 120:\n",
    "    if age < 12:\n",
    "        ticket+= 5       \n",
    "        print(f\"your ticket cost is ${ticket}\")\n",
    "    elif age >= 12 and age < 18:        \n",
    "        ticket+=  7      \n",
    "        print(f\"your ticket cost is ${ticket}\")        \n",
    "    elif age >= 45 and age <= 55:   \n",
    "        print(f\"Have a free ride on us\")\n",
    "    else:\n",
    "        ticket+=12\n",
    "        print(f\"your ticket cost is ${ticket}\")\n",
    "else:\n",
    "    print('Cant ride due your height')\n",
    "    \n",
    "if photos==1 and height > 120:\n",
    "    bill = ticket + 3\n",
    "    print(f\"your final bill is ${bill}\")\n",
    "else:\n",
    "    print(f\"your final bill is ${ticket}\")\n",
    "  "
   ]
  },
  {
   "attachments": {},
   "cell_type": "markdown",
   "metadata": {},
   "source": [
    "Instructions\n",
    "Congratulations, you've got a job at Python Pizza. Your first job is to build an automatic pizza order program.\n",
    "\n",
    "Based on a user's order, work out their final bill.\n",
    "\n",
    "Small Pizza: $15\n",
    "\n",
    "Medium Pizza: $20\n",
    "\n",
    "Large Pizza: $25\n",
    "\n",
    "Pepperoni for Small Pizza: +$2\n",
    "\n",
    "Pepperoni for Medium or Large Pizza: +$3\n",
    "\n",
    "Extra cheese for any size pizza: + $1\n",
    "\n",
    "size = \"L\"\n",
    "add_pepperoni = \"Y\"\n",
    "extra_cheese = \"N\"\n",
    "\n",
    "Your final bill is: $28.\n"
   ]
  },
  {
   "attachments": {},
   "cell_type": "markdown",
   "metadata": {},
   "source": [
    "long way"
   ]
  },
  {
   "cell_type": "code",
   "execution_count": 46,
   "metadata": {},
   "outputs": [
    {
     "name": "stdout",
     "output_type": "stream",
     "text": [
      "Your total will be: $28, after add PEPERONI\n"
     ]
    }
   ],
   "source": [
    "pizza_size=str(input('Type the size of your pizza S - M - L'))\n",
    "\n",
    "small_pizza=15\n",
    "medium_pizza=20\n",
    "large_pizza=25\n",
    "\n",
    "pep_small=2\n",
    "pep_med_lar=3\n",
    "ext_cheese=1\n",
    "\n",
    "bill=int()\n",
    "\n",
    "if pizza_size == 'S':\n",
    "    pep=int(input('type 0 for NO PEP or 1 for PEP'))\n",
    "    che=int(input('type 0 for NO +CHE or 1 for +CHE'))\n",
    "    if pep == 1 and che == 1:\n",
    "        bill = small_pizza + pep_small + ext_cheese\n",
    "        print(f'Your total will be: ${bill}, after add PEPERONI and CHEESE')\n",
    "    elif pep == 1 and che == 0:\n",
    "        bill = small_pizza + pep_small \n",
    "        print(f'Your total will be: ${bill}, after add PEPERONI')\n",
    "    elif pep == 0 and che == 1:\n",
    "        bill = small_pizza + ext_cheese\n",
    "        print(f'Your total will be: ${bill}, after add CHEESE')\n",
    "    else: \n",
    "        bill = small_pizza \n",
    "        print(f'Your total will be: ${bill}, after NO ADDS')\n",
    "\n",
    "if pizza_size == 'M':\n",
    "    pep=int(input('type 0 for NO PEP or 1 for PEP'))\n",
    "    che=int(input('type 0 for NO +CHE or 1 for +CHE'))\n",
    "    if pep == 1 and che == 1:\n",
    "        bill = medium_pizza + pep_med_lar + ext_cheese\n",
    "        print(f'Your total will be: ${bill}.00, after add PEPERONI and CHEESE')\n",
    "    elif pep == 1 and che == 0:\n",
    "        bill = medium_pizza + pep_med_lar \n",
    "        print(f'Your total will be: ${bill}.00, after add PEPERONI')\n",
    "    elif pep == 0 and che == 1:\n",
    "        bill = medium_pizza + ext_cheese \n",
    "        print(f'Your total will be: ${bill}.00, after add CHEESE')\n",
    "    else: \n",
    "        bill = medium_pizza \n",
    "        print(f'Your total will be: ${bill}.00, after NO ADDS')\n",
    "\n",
    "if pizza_size == 'L':\n",
    "    pep=int(input('type 0 for NO PEP or 1 for PEP'))\n",
    "    che=int(input('type 0 for NO +CHE or 1 for +CHE'))\n",
    "    if pep == 1 and che == 1:\n",
    "        bill = large_pizza + pep_med_lar + 1\n",
    "        print(f'Your total will be: ${bill}.00, after add PEPERONI and CHEESE')\n",
    "    elif pep == 1 and che == 0:\n",
    "        bill = large_pizza + pep_med_lar \n",
    "        print(f'Your total will be: ${bill}.00, after add PEPERONI')\n",
    "    elif pep == 0 and che == 1:\n",
    "        bill = large_pizza + ext_cheese \n",
    "        print(f'Your total will be: ${bill}.00, after add CHEESE')\n",
    "    else: \n",
    "        bill = large_pizza \n",
    "        print(f'Your total will be: ${bill}.00, after NO ADDS')\n"
   ]
  },
  {
   "attachments": {},
   "cell_type": "markdown",
   "metadata": {},
   "source": [
    "short way\n"
   ]
  },
  {
   "cell_type": "code",
   "execution_count": 58,
   "metadata": {},
   "outputs": [
    {
     "name": "stdout",
     "output_type": "stream",
     "text": [
      "Your total will be: $28.00\n"
     ]
    }
   ],
   "source": [
    "pizza_size=str(input('Type the size of your pizza S - M - L')).upper()\n",
    "ext_pep=str(input('type N for NO PEP or Y for PEP')).upper()\n",
    "ext_cheese=str(input('type N for NO +CHE or Y for +CHE')).upper()\n",
    "\n",
    "bill=0\n",
    "\n",
    "if pizza_size == 'S':\n",
    "    bill+=15\n",
    "elif pizza_size == 'M':\n",
    "    bill+=20\n",
    "elif pizza_size == 'L':\n",
    "    bill+=25\n",
    "\n",
    "if ext_pep == 'Y':\n",
    "    if pizza_size == 'S':\n",
    "        bill+=2\n",
    "    else:\n",
    "        bill+=3\n",
    "    \n",
    "if ext_cheese == \"Y\":\n",
    "        bill+= 1\n",
    "    \n",
    "print(f'Your total will be: ${bill}.00')\n"
   ]
  },
  {
   "cell_type": "markdown",
   "metadata": {},
   "source": [
    "Instructions\n",
    "You are going to write a program that tests the compatibility between two people.\n",
    "\n",
    "To work out the love score between two people:\n",
    "\n",
    "Take both people's names and check for the number of times the letters in the word TRUE occurs. \n",
    "\n",
    "Then check for the number of times the letters in the word LOVE occurs. \n",
    "\n",
    "Then combine these numbers to make a 2 digit number.\n",
    "\n",
    "For Love Scores less than 10 or greater than 90, the message should be:\n",
    "\n",
    "\"Your score is **x**, you go together like coke and mentos.\"\n",
    "For Love Scores between 40 and 50, the message should be:\n",
    "\n",
    "\"Your score is **y**, you are alright together.\"\n",
    "Otherwise, the message will just be their score. e.g.:\n",
    "\n",
    "\"Your score is **z**.\"\n",
    "e.g.\n",
    "\n",
    "name1 = \"Angela Yu\"\n",
    "name2 = \"Jack Bauer\"\n",
    "T occurs 0 times\n",
    "\n",
    "R occurs 1 time\n",
    "\n",
    "U occurs 2 times\n",
    "\n",
    "E occurs 2 times\n",
    "\n",
    "Total = 5\n",
    "\n",
    "L occurs 1 time\n",
    "\n",
    "O occurs 0 times\n",
    "\n",
    "V occurs 0 times\n",
    "\n",
    "E occurs 2 times\n",
    "\n",
    "Total = 3\n",
    "\n",
    "Love Score = 53\n",
    "\n",
    "Print: \"Your score is 53.\""
   ]
  },
  {
   "cell_type": "code",
   "execution_count": 98,
   "metadata": {},
   "outputs": [
    {
     "name": "stdout",
     "output_type": "stream",
     "text": [
      "Your score is 53, you are alright together.\n"
     ]
    }
   ],
   "source": [
    "name1 = \"Angela Yu\"\n",
    "name2 = \"Jack Bauer\"\n",
    "\n",
    "\n",
    "names = (name1+name2).lower()\n",
    "\n",
    "\n",
    "t_count=names.count('t')\n",
    "r_count=names.count('r')\n",
    "u_count=names.count('u')\n",
    "e_count=names.count('e')\n",
    "\n",
    "l_count=names.count('l')\n",
    "o_count=names.count('o')\n",
    "v_count=names.count('v')\n",
    "ee_count=names.count('e')\n",
    "\n",
    "first=str(t_count+r_count+u_count+e_count)\n",
    "sec=str(l_count+o_count+v_count+ee_count)\n",
    "\n",
    "total=int(first+sec)\n",
    "\n",
    "if total < 10 or total > 90:\n",
    "    print(f'Your score is {total}, you go together like coke and mentos.')\n",
    "elif total > 50 or total < 50:\n",
    "    print(f'Your score is {total}, you are alright together.')\n",
    "else:\n",
    "    print(f'Your score is {first}{sec}')"
   ]
  },
  {
   "cell_type": "code",
   "execution_count": 110,
   "metadata": {},
   "outputs": [
    {
     "name": "stdout",
     "output_type": "stream",
     "text": [
      "\n",
      "*******************************************************************************\n",
      "          |                   |                  |                     |\n",
      " _________|________________.=\"\"_;=.______________|_____________________|_______\n",
      "|                   |  ,-\"_,=\"\"     `\"=.|                  |\n",
      "|___________________|__\"=._o`\"-._        `\"=.______________|___________________\n",
      "          |                `\"=._o`\"=._      _`\"=._                     |\n",
      " _________|_____________________:=._o \"=._.\"_.-=\"'\"=.__________________|_______\n",
      "|                   |    __.--\" , ; `\"=._o.\" ,-\"\"\"-._ \".   |\n",
      "|___________________|_._\"  ,. .` ` `` ,  `\"-._\"-._   \". '__|___________________\n",
      "          |           |o`\"=._` , \"` `; .\". ,  \"-._\"-._; ;              |\n",
      " _________|___________| ;`-.o`\"=._; .\" ` '`.\"\\` . \"-._ /_______________|_______\n",
      "|                   | |o;    `\"-.o`\"=._``  '` \" ,__.--o;   |\n",
      "|___________________|_| ;     (#) `-.o `\"=.`_.--\"_o.-; ;___|___________________\n",
      "____/______/______/___|o;._    \"      `\".o|o_.--\"    ;o;____/______/______/____\n",
      "/______/______/______/_\"=._o--._        ; | ;        ; ;/______/______/______/_\n",
      "____/______/______/______/__\"=._o--._   ;o|o;     _._;o;____/______/______/____\n",
      "/______/______/______/______/____\"=._o._; | ;_.--\"o.--\"_/______/______/______/_\n",
      "____/______/______/______/______/_____\"=.o|o_.--\"\"___/______/______/______/____\n",
      "/______/______/______/______/______/______/______/______/______/______/_____ /\n",
      "*******************************************************************************\n",
      "\n",
      "Welcome to Treasure Island.\n",
      "Your mission is to find the treasure.\n",
      "\n",
      "you are at a cross road. Where do you want to go? Type \"left\" or \"right\"\n",
      "\n",
      "you come to a lake. There is an island in the middle of the lake. type \"wait\" to wait a boat or \"swim\" to swim across.\n",
      "\n",
      "you arrive at the island unharmed. There is a house with 3 doors. One red, one yellow and one blue. Which colour do you choose?\n",
      "\n",
      "You found the Treasure\n"
     ]
    }
   ],
   "source": [
    "print('''\n",
    "*******************************************************************************\n",
    "          |                   |                  |                     |\n",
    " _________|________________.=\"\"_;=.______________|_____________________|_______\n",
    "|                   |  ,-\"_,=\"\"     `\"=.|                  |\n",
    "|___________________|__\"=._o`\"-._        `\"=.______________|___________________\n",
    "          |                `\"=._o`\"=._      _`\"=._                     |\n",
    " _________|_____________________:=._o \"=._.\"_.-=\"'\"=.__________________|_______\n",
    "|                   |    __.--\" , ; `\"=._o.\" ,-\"\"\"-._ \".   |\n",
    "|___________________|_._\"  ,. .` ` `` ,  `\"-._\"-._   \". '__|___________________\n",
    "          |           |o`\"=._` , \"` `; .\". ,  \"-._\"-._; ;              |\n",
    " _________|___________| ;`-.o`\"=._; .\" ` '`.\"\\` . \"-._ /_______________|_______\n",
    "|                   | |o;    `\"-.o`\"=._``  '` \" ,__.--o;   |\n",
    "|___________________|_| ;     (#) `-.o `\"=.`_.--\"_o.-; ;___|___________________\n",
    "____/______/______/___|o;._    \"      `\".o|o_.--\"    ;o;____/______/______/____\n",
    "/______/______/______/_\"=._o--._        ; | ;        ; ;/______/______/______/_\n",
    "____/______/______/______/__\"=._o--._   ;o|o;     _._;o;____/______/______/____\n",
    "/______/______/______/______/____\"=._o._; | ;_.--\"o.--\"_/______/______/______/_\n",
    "____/______/______/______/______/_____\"=.o|o_.--\"\"___/______/______/______/____\n",
    "/______/______/______/______/______/______/______/______/______/______/_____ /\n",
    "*******************************************************************************\n",
    "''')\n",
    "print(\"Welcome to Treasure Island.\")\n",
    "print(\"Your mission is to find the treasure.\\n\") \n",
    "\n",
    "#https://www.draw.io/?lightbox=1&highlight=0000ff&edit=_blank&layers=1&nav=1&title=Treasure%20Island%20Conditional.drawio#Uhttps%3A%2F%2Fdrive.google.com%2Fuc%3Fid%3D1oDe4ehjWZipYRsVfeAx2HyB7LCQ8_Fvi%26export%3Ddownload\n",
    "\n",
    "print('you are at a cross road. Where do you want to go? Type \"left\" or \"right\"\\n')\n",
    "direction1=input('you are at a cross road. Where do you want to go? Type \"left\" or \"right\"')\n",
    "\n",
    "print('you come to a lake. There is an island in the middle of the lake. type \"wait\" to wait a boat or \"swim\" to swim across.\\n')\n",
    "opt=input('you come to a lake. There is an island in the middle of the lake. type \"wait\" to wait a boat or \"swim\" to swim across.')\n",
    "\n",
    "print('you arrive at the island unharmed. There is a house with 3 doors. One red, one yellow and one blue. Which colour do you choose?\\n')\n",
    "door=input('you arrive at the island unharmed. There is a house with 3 doors. One red, one yellow and one blue. Which colour do you choose?')\n",
    "\n",
    "\n",
    "if direction1 == 'left':\n",
    "    if opt == \"wait\":\n",
    "        if door=='yellow':\n",
    "            print('You found the Treasure')\n",
    "        elif door == 'blue': \n",
    "            print('eaten by beasts. Game over')\n",
    "        else:\n",
    "            print('Burned by fire. Game over')\n",
    "    else:\n",
    "        print('Attacked by trout. Game over')\n",
    "else:\n",
    "    print('Fall into a hole. Game Over.')\n"
   ]
  }
 ],
 "metadata": {
  "kernelspec": {
   "display_name": "env",
   "language": "python",
   "name": "python3"
  },
  "language_info": {
   "codemirror_mode": {
    "name": "ipython",
    "version": 3
   },
   "file_extension": ".py",
   "mimetype": "text/x-python",
   "name": "python",
   "nbconvert_exporter": "python",
   "pygments_lexer": "ipython3",
   "version": "3.10.6"
  },
  "orig_nbformat": 4,
  "vscode": {
   "interpreter": {
    "hash": "b15c5648db5637feb81fcae916c610f06fa0d80f6bc4885c25e80cd1fedb8bfc"
   }
  }
 },
 "nbformat": 4,
 "nbformat_minor": 2
}
